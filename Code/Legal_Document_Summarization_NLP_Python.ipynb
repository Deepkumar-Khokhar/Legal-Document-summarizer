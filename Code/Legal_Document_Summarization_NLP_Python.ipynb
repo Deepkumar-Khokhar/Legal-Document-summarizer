{
 "cells": [
  {
   "cell_type": "code",
   "execution_count": 2,
   "metadata": {},
   "outputs": [],
   "source": [
    "# Student Information\n",
    "\n",
    "# Student 1 Name: Belani hemil mayurkumar\n",
    "# Student 2 Name: Nakrani kenil umeshbhai\n",
    "# Student 3 Name: Khokhar deep kishorbhai\n",
    "# Student 4 Name: Prajapati Aryan jitendrabhai\n",
    "# Student 5 Name: Amin yesha pinakinbhai"
   ]
  },
  {
   "cell_type": "markdown",
   "metadata": {
    "id": "R0SxskUcnZHr"
   },
   "source": [
    "## Installation of Required Libraries"
   ]
  },
  {
   "cell_type": "code",
   "execution_count": 1,
   "metadata": {
    "id": "vGVE4AYxKBu4"
   },
   "outputs": [],
   "source": [
    "# !pip install transformers==2.8.0\n",
    "# !pip install torch==1.4.0\n",
    "# !pip install summa\n",
    "# !pip install PyPDF2\n",
    "# !pip install pdfplumber\n",
    "# !pip install python-docx\n",
    "# !pip install transformers torch summa rouge-score\n"
   ]
  },
  {
   "cell_type": "markdown",
   "metadata": {
    "id": "CfybDG0InziH"
   },
   "source": [
    "## Importing Libraries\n"
   ]
  },
  {
   "cell_type": "code",
   "execution_count": 2,
   "metadata": {
    "id": "NCjgHpB8J1xp"
   },
   "outputs": [],
   "source": [
    "import os\n",
    "import torch\n",
    "import PyPDF2\n",
    "import pdfplumber\n",
    "from docx import Document\n",
    "from transformers import T5Tokenizer, T5ForConditionalGeneration, T5Config\n",
    "from transformers import BartForConditionalGeneration, BartTokenizer\n",
    "from summa import summarizer"
   ]
  },
  {
   "cell_type": "markdown",
   "metadata": {
    "id": "LPTVdolroH4X"
   },
   "source": [
    "## Functions for Text Extraction"
   ]
  },
  {
   "cell_type": "code",
   "execution_count": 3,
   "metadata": {
    "id": "nXNkQ_R6RMQj"
   },
   "outputs": [],
   "source": [
    "def extract_text_from_pdf(file_path):\n",
    "    text_array = []\n",
    "    with pdfplumber.open(file_path) as pdf:\n",
    "        for page in pdf.pages:\n",
    "            text = page.extract_text()\n",
    "            if text:\n",
    "                text_array.append(text.replace('\\n', ' '))\n",
    "    return ' '.join(text_array)"
   ]
  },
  {
   "cell_type": "code",
   "execution_count": 4,
   "metadata": {
    "id": "V5AtPPzOTMds"
   },
   "outputs": [],
   "source": [
    "def extract_text_from_docx(file_path):\n",
    "    text_array = []\n",
    "    doc = Document(file_path)\n",
    "    for para in doc.paragraphs:\n",
    "        text = para.text.replace('\\n', ' ')\n",
    "        text_array.append(text)\n",
    "    return ' '.join(text_array)"
   ]
  },
  {
   "cell_type": "code",
   "execution_count": 5,
   "metadata": {
    "id": "rwnCO_WxRllD"
   },
   "outputs": [],
   "source": [
    "file_name = 'free-software-development-agreement.docx'"
   ]
  },
  {
   "cell_type": "code",
   "execution_count": 6,
   "metadata": {
    "id": "BhnKHYZKTSc1"
   },
   "outputs": [],
   "source": [
    "extension = os.path.splitext(file_name)[1].lower()"
   ]
  },
  {
   "cell_type": "code",
   "execution_count": 7,
   "metadata": {
    "id": "wyOCc6qyRlpL"
   },
   "outputs": [],
   "source": [
    "if extension == '.pdf':\n",
    "  text =  extract_text_from_pdf(file_name)\n",
    "elif extension == '.docx':\n",
    "  text =  extract_text_from_docx(file_name)\n",
    "else:\n",
    "    raise ValueError(\"Unsupported file type: \" + extension)"
   ]
  },
  {
   "cell_type": "code",
   "execution_count": 8,
   "metadata": {
    "colab": {
     "base_uri": "https://localhost:8080/"
    },
    "id": "U2eHe9hKTaJH",
    "outputId": "0319d177-8ed2-4f14-cf7d-c68340973f54"
   },
   "outputs": [
    {
     "name": "stdout",
     "output_type": "stream",
     "text": [
      "Free software development agreement: cover 1.\tThis template legal document was produced and published by Docular Limited. 2.\tWe control the copyright in this template, and you may only use this template in accordance with the licensing provisions in our terms and conditions. Those licensing provisions include an obligation to retain the attribution / credit incorporated into the template. 3.\tBuy a licence to use this template without the attribution / credit here: https://www.website-contracts.co.uk/software-development-agreement.html 4.\tYou will need to edit this template before use. Guidance notes to help you do so are set out at the end of the template. During the editing process, you should delete those guidance notes and this cover sheet. Square brackets in the body of the document indicate areas that require editorial attention. \"ORs\" in the body of the document indicate alternative provisions. By the end of the editing process, there should be no square brackets left in the body of the document, and only one alternative from each set of alternatives should remain. Elements may be specified as optional in the accompanying notes, but that does not mean that they are in all cases removable. Nor are they always retainable. Depending upon the circumstances, the inclusion or removal of an optional element may be: (i) required by law; or (ii) necessary to ensure that the document is internally consistent. 5.\tIf you have any doubts about the editing or use of this template, you should seek professional legal advice. 6.\tGet a quote for the completion of this template here: https://seqlegal.com/request-quote  Software development agreement DATE [Date] PARTIES 1.\t[[INDIVIDUAL NAME] of [address]] OR [[COMPANY NAME], a company incorporated in [jurisdiction] (registration number [number]) having its registered office at [address]] (\"the Developer\"); and 2.\t[[INDIVIDUAL NAME] of [address]] OR [[COMPANY NAME], a company incorporated in [jurisdiction] (registration number [registration number]) having its registered office at [address]] (\"the Customer\"). AGREEMENT 1.\tDefinitions 1.1\tIn this Agreement[, except to the extent expressly provided otherwise]: \"Agreement\" means this agreement including any Schedules, and any amendments to this Agreement from time to time; \"Assignment IP\" means [all Intellectual Property Rights in the Software and the Documentation, excluding the Intellectual Property Rights in the Third Party Materials]; \"Business Day\" means any weekday other than a bank or public holiday in [[England]] OR [[jurisdiction]]; \"Business Hours\" means the hours of [09:00 to 17:00] [GMT/BST] OR [[time zone]] on a Business Day; \"Charges\" means: (a)\t[the charges and other payable amounts specified in Paragraph 4 of Schedule 1 (Software Development Particulars) and elsewhere in this Agreement]; (b)\t[charges calculated by multiplying [the standard time-based charging rates of the Developer (as notified by the Developer to the Customer before the date of this Agreement)] by the time spent by the personnel of the Developer performing [the Services] (rounded [down by the Developer to the nearest quarter hour])]; and (c)\t[such other charges and payable amounts as may be agreed in writing by the parties from time to time]; [additional list items] \"Development Services\" means [the design and development of the Software by the Developer]; \"Documentation\" means [the documentation for the Software produced by the Developer and delivered or made available by the Developer to the Customer]; \"Effective Date\" means [the date of execution of this Agreement]; \"Force Majeure Event\" means [an event, or a series of related events, that is outside the reasonable control of the party affected (which may include failures of the internet or any public telecommunications network, hacker attacks, denial of service attacks, virus or other malicious software attacks or infections, power failures, industrial disputes affecting any third party, changes to the law, disasters, epidemics, pandemics, explosions, fires, floods, riots, terrorist attacks and wars)]; \"Intellectual Property Rights\" means [all intellectual property rights wherever in the world, whether registrable or unregistrable, registered or unregistered, including any application or right of application for such rights (and these \"intellectual property rights\" include copyright and related rights, database rights, confidential information, trade secrets, know-how, business names, trade names, trade marks, service marks, passing off rights, unfair competition rights, patents, petty patents, utility models, semi-conductor topography rights and rights in designs)]; \"Schedule\" means any schedule attached to the main body of this Agreement; \"Services\" means [any services that the Developer provides to the Customer, or has an obligation to provide to the Customer, under this Agreement]; \"Software\" means the software identified in Paragraph 1 of Schedule 1 (Software Development Particulars)[, including [the Source Code of that software created by or on behalf of the Developer in the course of the provision of the Development Services and compiled to create the executable version of that software]]; \"Software Defect\" means a defect, error or bug in the Software having [an adverse effect] OR [a material adverse effect] on [the appearance, operation, functionality or performance of the Software][, but excluding any defect, error or bug caused by or arising as a result of: (a)\t[any act or omission of the Customer or any person authorised by the Customer to use the Software]; (b)\t[any use of the Software contrary to the Documentation by the Customer or any person authorised by the Customer to use the Software]; (c)\t[a failure of the Customer to perform or observe any of its obligations in this Agreement]; and/or (d)\t[an incompatibility between the Software and any other system, network, application, program, hardware or software not specified as compatible in the Software Specification];] \"Software Specification\" means [the specification for the Software set out in Paragraph 1 of Schedule 1 (Software Development Particulars) and in the Documentation][, as it may be varied by the written agreement of the parties from time to time]; \"Source Code\" means [software code in human-readable form, including human-readable code compiled to create software or decompiled from software, but excluding interpreted code]; \"Term\" means [the term of this Agreement, commencing in accordance with Clause 3.1 and ending in accordance with Clause 3.2]; and \"Third Party Materials\" means the works and/or materials comprised in the Software, the Intellectual Property Rights in which are owned by a third party[, and which are specified in Paragraph 2 of Schedule 1 (Software Development Particulars) or which the parties agree in writing shall be incorporated into the Software]. 2.\tCredit 2.1\tThis document was created using a template from Docular (https://seqlegal.com/free-legal-documents/software-development-agreement). You must retain the above credit. Use of this document without the credit is an infringement of copyright. However, you can purchase from us an equivalent document that does not include the credit. 3.\tTerm 3.1\tThis Agreement shall come into force upon the Effective Date. 3.2\tThis Agreement shall continue in force [indefinitely] OR [until: (a)\tall the Services have been completed; (b)\tall the Software has been delivered; and (c)\tall the Charges have been paid in cleared funds, \tupon which it will terminate automatically], subject to termination in accordance with Clause 13. 4.\tDevelopment Services 4.1\tThe Developer shall provide the Development Services to the Customer. 4.2\tThe Developer shall [ensure] OR [use all reasonable endeavours to ensure] OR [use reasonable endeavours to ensure] that the Development Services are provided in accordance with the timetable set out in Paragraph 3 of Schedule 1 (Software Development Particulars), and that [a copy of the Software and Documentation is] delivered to the Customer[ [by means of a secure online file sharing system, on a USB memory stick or on optical disk]] in accordance with that timetable. 4.3\tThe Customer acknowledges that a delay in the Customer performing its obligations under this Agreement may result in a delay in the performance of the Development Services; and subject to Clause 11.1 the Developer will not be liable to the Customer in respect of any failure to meet the Development Services timetable to the extent that that failure arises out of a delay in the Customer performing its obligations under this Agreement. 4.4\tThe Developer shall ensure that [the Source Code, and any interpreted code, comprised in the Software created by or on behalf of the Developer during the provision of the Development Services] is [written to a professional standard, conforms with any coding standards document agreed between the parties, and incorporates sufficient commentary to enable a competent third party developer to understand, adapt, maintain and update the code]. 4.5\tThe Developer shall keep the Customer reasonably informed of the progress of the Development Services and, in particular, shall inform the Customer of any substantial obstacles or likely delays in the performance of the Development Services. 4.6\tThe Developer shall [during the course of the Development Services at the request of the Customer] [supply to the Customer] OR [make accessible to the Customer] [a current development version of the Software] for the purposes of [enabling the Customer to assess the progress of the Development Services and provide feedback to the Developer regarding the Software]. 5.\tAssignment 5.1\tOn and from [the date of delivery of the Software to the Customer], the Developer hereby assigns to the Customer[ with full title guarantee] all of the Assignment IP. OR 5.1\tOn and from [the date of delivery of the Software to the Customer], the Developer hereby assigns to the Customer all of its right, title and interest in the Assignment IP. 5.2\tThe assignment in Clause 5.1 is for the full term of the assigned rights, including all extensions, renewals, reversions and revivals. 5.3\tThe assignment in Clause 5.1 includes the right to bring proceedings in respect of past infringements of the assigned rights, and to recover damages or benefit from any other remedies in respect of any past infringements of the assigned rights. 6.\tThird Party Materials 6.1\tSubject to any express written agreement between the parties, the Developer shall ensure that the Third Party Materials are: (a)\t[licensed to the Customer in accordance with the relevant licensor's standard licensing terms (which the Customer acknowledges may be open source or Creative Commons licensing terms)]; (b)\t[licensed to the Customer on reasonable terms notified by the Developer to the Customer]; (c)\t[sub-licensed by the Developer to the Customer on reasonable terms notified in writing by the Developer to the Customer]; or (d)\t[sub-licensed by the Developer to the Customer on the basis of a non-exclusive, worldwide, perpetual and irrevocable licence to use the Third Party Materials in connection with the Software]. [additional list items] 7.\tCustomer obligations 7.1\tSave to the extent that the parties have agreed otherwise in writing, the Customer must provide to the Developer, or procure for the Developer, such: (a)\t[co-operation, support and advice]; and (b)\t[information and documentation], \tas are reasonably necessary to enable the Developer to perform its obligations under this Agreement. 8.\tCharges 8.1\tThe Customer shall pay the Charges to the Developer in accordance with this Agreement. 8.2\tIf the Charges are based in whole or part upon the time spent by the Developer performing the Services, the Developer must obtain the Customer's written consent before performing Services that result in any estimate of time-based Charges given to the Customer being exceeded or any budget for time-based Charges agreed by the parties being exceeded; and unless the Customer agrees otherwise in writing, the Customer shall not be liable to pay to the Developer any Charges in respect of Services performed in breach of this Clause 8.2. 8.3\tAll amounts stated in or in relation to this Agreement are, unless the context requires otherwise, stated [inclusive of any applicable value added taxes] OR [exclusive of any applicable value added taxes, which will be added to those amounts and payable by the Customer to the Developer]. 8.4\tThe Developer may elect to vary [any element of the Charges] by giving to the Customer not less than [30 days'] written notice of the variation[ expiring on [any anniversary of the date of execution of this Agreement]][, providing that no such variation shall constitute a percentage increase in [the relevant element of the Charges] that exceeds[ [2]% over] the percentage increase, since the date of the most recent variation of [the relevant element of the Charges][ under this Clause 8.4] (or, if no such variation has occurred, since the date of execution of this Agreement), in [the Retail Prices Index (all items) published by the UK Office for National Statistics].] 9.\tPayments 9.1\tThe Developer shall issue invoices for the Charges to the Customer [from time to time during the Term] OR [on or after the invoicing dates set out in Paragraph 4 of Schedule 1 (Software Development Particulars)] OR [[dates for invoicing]]. 9.2\tThe Customer must pay the Charges to the Developer within the period of [30 days] following [the issue of an invoice in accordance with this Clause 9] OR [the receipt of an invoice issued in accordance with this Clause 9]. 9.3\tThe Customer must pay the Charges by [debit card, credit card, direct debit or bank transfer] (using such payment details as are notified by the Developer to the Customer from time to time). 9.4\tIf the Customer does not pay any amount properly due to the Developer under this Agreement, the Developer may: (a)\tcharge the Customer interest on the overdue amount at the rate of [8% per annum above the Bank of England base rate from time to time] (which interest will accrue daily until the date of actual payment and be compounded at the end of each calendar month); or (b)\tclaim interest and statutory compensation from the Customer pursuant to the Late Payment of Commercial Debts (Interest) Act 1998. OR 9.4\tIf the Customer does not pay any amount properly due to the Developer under this Agreement, the Developer may charge the Customer interest on the overdue amount at the rate of [2% per annum above the Bank of England base rate from time to time] (which interest will accrue daily until the date of actual payment and be compounded at the end of each calendar month).[ The Developer acknowledges and agrees that it shall have no right to claim interest or statutory compensation under the Late Payment of Commercial Debts (Interest) Act 1998, and that its contractual rights under this Clause 9.4 constitute a substantial remedy within the meaning of that Act.] 10.\tWarranties 10.1\tThe Developer warrants to the Customer that: (a)\t[the Developer has the legal right and authority to enter into this Agreement and to perform its obligations under this Agreement]; (b)\t[the Developer will comply with all applicable legal and regulatory requirements applying to the exercise of the Developer's rights and the fulfilment of the Developer's obligations under this Agreement]; and (c)\t[the Developer has or has access to all necessary know-how, expertise and experience to perform its obligations under this Agreement]. [additional list items] 10.2\tThe Developer warrants to the Customer that: (a)\t[the Software as provided will conform in all [material] respects with the Software Specification]; (b)\t[the Software will be supplied free from Software Defects[ and will remain free from Software Defects[ for a period of at least 12 months following the supply of the Software]]]; (c)\t[the Software will be supplied free from viruses, worms, Trojan horses, ransomware, spyware, adware and other malicious software programs]; and (d)\t[the Software shall incorporate security features reflecting the requirements of good industry practice]. [additional list items] 10.3\tThe Developer warrants to the Customer that the Software[ and Documentation][, when used by the Customer in accordance with this Agreement,] will not breach [any laws, statutes or regulations applicable under English law]. 10.4\tThe Developer warrants to the Customer that the Software[ and Documentation], when used by the Customer in accordance with this Agreement, will not infringe the Intellectual Property Rights of any person [in any jurisdiction and under any applicable law]. 10.5\tIf [the Developer reasonably determines, or any third party alleges, that the use of the Software by the Customer in accordance with this Agreement infringes any person's Intellectual Property Rights], the Developer may[ acting reasonably] at its own cost and expense: (a)\tmodify the Software in such a way that it no longer infringes the relevant Intellectual Property Rights[, providing that [any such modification must not introduce any Software Defects into the Software and must not result in the Software failing to conform with the Software Specification]]; or (b)\tprocure for the Customer the right to use the Software in accordance with this Agreement. 10.6\tThe Customer warrants to the Developer that it has the legal right and authority to enter into this Agreement and to perform its obligations under this Agreement. 10.7\tAll of the parties' warranties and representations in respect of the subject matter of this Agreement are expressly set out in this Agreement. To the maximum extent permitted by applicable law, no other warranties or representations concerning the subject matter of this Agreement will be implied into this Agreement or any related contract. 11.\tLimitations and exclusions of liability 11.1\tNothing in this Agreement will: (a)\tlimit or exclude any liability for death or personal injury resulting from negligence; (b)\tlimit or exclude any liability for fraud or fraudulent misrepresentation; (c)\tlimit any liabilities in any way that is not permitted under applicable law; or (d)\texclude any liabilities that may not be excluded under applicable law. 11.2\tThe limitations and exclusions of liability set out in this Clause 11 and elsewhere in this Agreement:  (a)\tare subject to Clause 11.1; and (b)\tgovern all liabilities arising under this Agreement or relating to the subject matter of this Agreement, including liabilities arising in contract, in tort (including negligence) and for breach of statutory duty, except to the extent expressly provided otherwise in this Agreement. 11.3\t[Neither party shall be liable to the other party] OR [The Developer shall not be liable to the Customer] OR [The Customer shall not be liable to the Developer] in respect of any losses arising out of a Force Majeure Event. 11.4\t[Neither party shall be liable to the other party] OR [The Developer shall not be liable to the Customer] OR [The Customer shall not be liable to the Developer] in respect of any loss of profits or anticipated savings. 11.5\t[Neither party shall be liable to the other party] OR [The Developer shall not be liable to the Customer] OR [The Customer shall not be liable to the Developer] in respect of any loss of revenue or income. 11.6\t[Neither party shall be liable to the other party] OR [The Developer shall not be liable to the Customer] OR [The Customer shall not be liable to the Developer] in respect of any loss of use or production. 11.7\t[Neither party shall be liable to the other party] OR [The Developer shall not be liable to the Customer] OR [The Customer shall not be liable to the Developer] in respect of any loss of business, contracts or opportunities. 11.8\t[Neither party shall be liable to the other party] OR [The Developer shall not be liable to the Customer] OR [The Customer shall not be liable to the Developer] in respect of any loss or corruption of any data or database. 11.9\t[Neither party shall be liable to the other party] OR [The Developer shall not be liable to the Customer] OR [The Customer shall not be liable to the Developer] in respect of any special, indirect or consequential loss or damage. 11.10\tThe liability of [each party to the other party] OR [the Developer to the Customer] OR [the Customer to the Developer] under this Agreement in respect of any event or series of related events shall not exceed the greater of: (a)\t[amount]; and (b)\t[the total amount paid and payable by the Customer to the Developer under this Agreement in the 12-month period preceding the commencement of the event or events]. 11.11\tThe aggregate liability of [each party to the other party] OR [the Developer to the Customer] OR [the Customer to the Developer] under this Agreement shall not exceed the greater of: (a)\t[amount]; and (b)\t[the total amount paid and payable by the Customer to the Developer under this Agreement]. 12.\tForce Majeure Event 12.1\tIf a Force Majeure Event gives rise to a failure or delay in either party performing any obligation under this Agreement[ (other than any obligation to make a payment)], that obligation will be suspended for the duration of the Force Majeure Event. 12.2\tA party that becomes aware of a Force Majeure Event which gives rise to, or which is likely to give rise to, any failure or delay in that party performing any obligation under this Agreement, must: (a)\tpromptly notify the other; and (b)\tinform the other of the period for which it is estimated that such failure or delay will continue. 12.3\tA party whose performance of its obligations under this Agreement is affected by a Force Majeure Event must take reasonable steps to mitigate the effects of the Force Majeure Event. 13.\tTermination 13.1\tThe Developer may terminate this Agreement by giving to the Customer [not less than 30 days'] written notice of termination. 13.2\tThe Customer may terminate this Agreement by giving to the Developer [not less than 30 days'] written notice of termination. 13.3\tEither party may terminate this Agreement immediately by giving written notice of termination to the other party if: (a)\tthe other party commits any [breach] OR [material breach] of this Agreement[, and the breach is not remediable]; (b)\t[the other party commits a [breach] OR [material breach] of this Agreement, and the breach is remediable but the other party fails to remedy the breach within the period of [30 days] following the giving of a written notice to the other party requiring the breach to be remedied]; or (c)\t[the other party persistently breaches this Agreement (irrespective of whether such breaches collectively constitute a material breach)]. 13.4\tSubject to applicable law, either party may terminate this Agreement immediately by giving written notice of termination to the other party if: (a)\tthe other party: (i)\tis dissolved; (ii)\tceases to conduct all (or substantially all) of its business; (iii)\tis or becomes unable to pay its debts as they fall due; (iv)\tis or becomes insolvent or is declared insolvent; or (v)\tconvenes a meeting or makes or proposes to make any arrangement or composition with its creditors; (b)\tan administrator, administrative receiver, liquidator, receiver, trustee, manager or similar is appointed over any of the assets of the other party; (c)\tan order is made for the winding up of the other party, or the other party passes a resolution for its winding up[ (other than for the purpose of a solvent company reorganisation where the resulting entity will assume all the obligations of the other party under this Agreement)]; or (d)\t[if that other party is an individual:  (i)\tthat other party becomes incapable of managing his or her own affairs as a result of illness or incapacity; or (ii)\tthat other party is the subject of a bankruptcy petition or order, \tand if that other party dies then this Agreement shall automatically terminate]. 13.5\tThe Developer may terminate this Agreement immediately by giving written notice to the Customer if: (a)\tany amount due to be paid by the Customer to the Developer under this Agreement is unpaid by the due date and remains unpaid upon the date that that written notice of termination is given; and (b)\tthe Developer has given to the Customer at least [30 days'] written notice, following the failure to pay, of its intention to terminate this Agreement in accordance with this Clause 13.5. 14.\tEffects of termination 14.1\tUpon the termination of this Agreement, all of the provisions of this Agreement shall cease to have effect, save that the following provisions of this Agreement shall survive and continue to have effect (in accordance with their express terms or otherwise indefinitely): [Clauses 1, 9.2, 9.4, 11, 14, 15, 18 and 19]. 14.2\tExcept to the extent expressly provided otherwise in this Agreement, the termination of this Agreement shall not affect the accrued rights of either party. 14.3\tWithin [30 days] following the termination of this Agreement for any reason: (a)\tthe Customer must pay to the Developer any Charges in respect of Services provided to the Customer before the termination of this Agreement; and (b)\tthe Developer must refund to the Customer any Charges paid by the Customer to the Developer in respect of Services that were to be provided to the Customer after the termination of this Agreement, \twithout prejudice to the parties' other legal rights. 15.\tFurther assurance 15.1\tThe Developer must[ use [reasonable endeavours] OR [best endeavours] to]: (a)\tdo or procure the doing of all acts; and (b)\texecute or procure the execution of all documents, \tthat the Customer may reasonably request from time to time in order to perfect or confirm the Customer's ownership of the rights assigned by this Agreement. 15.2\tThe Developer must provide to the Customer [at its own cost and expense] OR [at the cost and expense of the Customer] such reasonable assistance as the Customer may request in order to register the Customer's rights in the Assignment IP with any intellectual property office or registry. 15.3\tThe Developer must provide to the Customer [at its own cost and expense] OR [at the cost and expense of the Customer] all reasonable assistance in connection with any legal proceedings relating to the rights assigned under this Agreement that are brought by, or against, the Customer. 16.\tNotices 16.1\tAny notice from one party to the other party under this Agreement must be given by one of the following methods (using the relevant contact details set out in Clause 16.2):    (a)\t[[delivered personally or sent by courier], in which case the notice shall be deemed to be received [upon delivery]]; or (b)\t[sent by [recorded signed-for post], in which case the notice shall be deemed to be received [2 Business Days following posting]], [additional list items] \tproviding that, if the stated time of deemed receipt is not within Business Hours, then the time of deemed receipt shall be when Business Hours next begin after the stated time. 16.2\tThe parties' contact details for notices under this Clause 16 are as follows: (a)\tin the case of notices sent by the Customer to the Developer, [contact details]; and (b)\tin the case of notices sent by the Developer to the Customer, [contact details]. 16.3\tThe addressee and contact details set out in Clause 16.2 may be updated from time to time by a party giving written notice of the update to the other party in accordance with this Clause 16. 17.\tSubcontracting 17.1\tThe Developer must not subcontract any of its obligations under this Agreement without the prior written consent of the Customer[, providing that the Customer must not unreasonably withhold or delay the giving of such consent]. OR 17.1\tSubject to any express restrictions elsewhere in this Agreement, the Developer may subcontract any of its obligations under this Agreement[, providing that the Developer must give to the Customer, promptly following the appointment of a subcontractor, a written notice specifying the subcontracted obligations and identifying the subcontractor in question]. 17.2\tThe Developer shall remain responsible to the Customer for the performance of any subcontracted obligations.  18.\tGeneral 18.1\tNo breach of any provision of this Agreement shall be waived except with the express written consent of the party not in breach. 18.2\tIf any provision of this Agreement is determined by any court or other competent authority to be unlawful and/or unenforceable, the other provisions of this Agreement will continue in effect. If any unlawful and/or unenforceable provision would be lawful or enforceable if part of it were deleted, that part will be deemed to be deleted, and the rest of the provision will continue in effect (unless that would contradict the clear intention of the parties, in which case the entirety of the relevant provision will be deemed to be deleted). 18.3\tThis Agreement may not be varied except by a written document signed by or on behalf of each of the parties. 18.4\tNeither party may without the prior written consent of the other party assign, transfer, charge, license or otherwise deal in or dispose of any contractual rights or obligations under this Agreement. 18.5\tThis Agreement is made for the benefit of the parties and is not intended to benefit any third party or be enforceable by any third party. The rights of the parties to terminate, rescind, or agree any amendment, waiver, variation or settlement under or relating to this Agreement are not subject to the consent of any third party. 18.6\tSubject to Clause 11.1, this Agreement shall constitute the entire agreement between the parties in relation to the subject matter of this Agreement, and shall supersede all previous agreements, arrangements and understandings between the parties in respect of that subject matter. 18.7\tThis Agreement shall be governed by and construed in accordance with [English law]. 18.8\tThe courts of [England] shall have exclusive jurisdiction to adjudicate any dispute arising under or in connection with this Agreement. 19.\tInterpretation 19.1\tIn this Agreement, a reference to a statute or statutory provision includes a reference to:  (a)\tthat statute or statutory provision as modified, consolidated and/or re-enacted from time to time; and (b)\tany subordinate legislation made under that statute or statutory provision. 19.2\tThe Clause headings do not affect the interpretation of this Agreement. 19.3\tReferences in this Agreement to \"calendar months\" are to [the 12 named periods (January, February and so on) into which a year is divided]. 19.4\tIn this Agreement, general words shall not be given a restrictive interpretation by reason of being preceded or followed by words indicating a particular class of acts, matters or things. EXECUTION The parties have indicated their acceptance of this Agreement by executing it below. SIGNED BY [[individual name] on [...............], the Developer] OR [[individual name] on [...............], duly authorised for and on behalf of the Developer]: ........................................ SIGNED BY [[individual name] on [...............], the Customer] OR [[individual name] on [...............], duly authorised for and on behalf of the Customer]: ........................................  SCHEDULE 1 (SOFTWARE DEVELOPMENT PARTICULARS) 1.\tSpecification of Software [Specify Software] 2.\tThird Party Materials [Identify Third Party Materials] 3.\tTimetable [Insert timetable] 4.\tFinancial provisions [Insert financial provisions]  Free software development agreement: drafting notes Software development contracts can be both legally and factually complex, and it is almost always a good idea to set out the basis upon which the software is being developed in a written contract. Our aim in preparing this template was to simplify the contractual provisions while producing a document that was flexible enough for use in a wide range of situations. The basic obligations of the developer here are to produce software meeting a written specification and to deliver that software to the customer by some agreed means, all within a pre-defined timetable. The developer's obligations are, however, subject to the customer performing its obligations under the agreement - e.g. providing feedback or content - on time. Software development agreements may provide that copyright and other intellectual property rights in the software are assigned or licensed to the customer. More complex agreements may provide for a combination of licensing and assignment. This agreement assumes that rights in the software will be assigned to the customer, although third-party code and other third-party materials included with the software may be carved out from the assignment. This template is equivalent to our basic software development agreement. The only difference is that this template includes a section crediting/attributing the template to us. Please use the basic contract if you want to remove that section. The standard and premium software development agreements that we publish include a range of clauses that are omitted from this template. The omitted clauses cover user acceptance testing, set up of the software in the customer's environment or a cloud environment, payment of expenses by the customer, the retention and delivery of timesheets by the developer, obligations of confidentiality, indemnities, and many other matters besides. DATE Insert the date of execution of the document. PARTIES Subsection 1 Is the Developer an individual or a company? What is the full name of the individual (including middle names)? What is the postal address of the Developer? What is the full company name of the Developer? In which jurisdiction is the Developer incorporated? What is the registration number of the Developer? What is the registered office address of the Developer? Subsection 2 Is the Customer an individual or a company? What is the full name of the individual (including middle names)? What is the postal address of the Customer? What is the full company name of the Customer? In which jurisdiction is the Customer incorporated? What is the registration number of the Customer? What is the registered office address of the Customer? AGREEMENT Clause 1: Definitions Clause 1.1 Definition of Assignment IP Define \"Assignment IP\". Definition of Business Day The bank and public holidays of which jurisdiction should be excluded from the definition of \"Business Day\"? Definition of Business Hours What are business hours for the purposes of this document? Definition of Charges What charges are payable under this document? How should the time-based charging rates be described or specified? Will all the services be subject to time-based charging, or only some of the services? How are time-based charging units to be rounded? Definition of Development Services Define \"Development Services\". Definition of Documentation How should the software documentation be identified? Definition of Effective Date When will the contract come into force? Definition of Force Majeure Event Specify particular examples of force majeure events. Definition of Services Define \"Services\". Definition of Software Should the definition of \"Software\" expressly include some or all elements of the source code? Which elements of the source code should be included in this definition? Definition of Software Defect Will non-material defects count as software defects for the purposes of this definition? In what ways may a relevant defect affect the software? Should a set of general exclusions from this definition be included? What exclusions should apply here? Definition of Software Specification Define \"Software Specification\". NB in many cases it will not be appropriate to include a reference to documentation in this definition. May the specification for the software be varied by the written agreement of the parties? Definition of Source Code Consider whether to adapt the definition of source code. Definition of Term Define \"Term\", the period during which the contract will subsist. Definition of Third Party Materials Must all third party materials incorporated into the software be specifically identified in the specification of the software or included subject to the parties' agreement? Clause 2: Credit Clause: Free documents licensing warning Optional element. Although you need to retain the credit, you should remove the inline copyright warning from this document before use. Clause 3: Term Clause 3.2 Is the term of the document indefinite, or will it automatically come to an end after all services and software have been provided and all amounts due have been paid? Clause 4: Development Services Clause 4.2 Will the Developer have an absolute or qualified obligation to meet the timetable for the provision of the development services? What exactly will be delivered to the Customer? Clause 4.3 Optional element. Clause 4.4 Optional element. Specify the subject of the coding standard obligations. What obligations will the Developer have in relation to the software code itself? Clause 4.5 Optional element. Clause 4.6 Optional element. When will the Developer's obligations under this provision apply? Will the Developer supply development copies of the software to the Customer, or merely make the development versions available (eg via the internet)? What will be made available to the Customer under this provision? For what purposes may the Customer use the development copy or version? Clause 5: Assignment Clause 5.1 When will the assignment take effect? Will the assignment be \"with full title guarantee\"? Clause 5.1 When will the assignment take effect? Clause 5.3 Optional element. Clause 6: Third Party Materials Optional element. Clause 6.1 Will the software incorporate any third party materials? How will third party materials be licensed? Clause 7: Customer obligations Optional element. Clause 7.1 What must the Customer provide to the Developer? Clause 8: Charges Clause 8.2 Optional element. Clause 8.3 Optional element. Are payment amounts stated inclusive or exclusive of VAT? Clause 8.4 Optional element. Will the Developer be permitted to vary the charges, or any element of the charges, in any circumstances? Which elements of the charges may be varied? What notice period should apply to the variation of charges? Will variations only take effect upon a particular date? Should variations be subject to a cap? Clause 9: Payments Clause 9.1 When should invoices be issued? Specify invoicing dates. Clause 9.2 What is the period for payment of invoices? When does the period for payment of an invoice begin to run? Clause 9.3 Optional element. Using what methods should payments be made? Clause 9.4 What contractual interest rate should apply to late payments? Late Payment of Commercial Debts (Interest) Act 1998 - https://www.legislation.gov.uk/ukpga/1998/20 Clause 9.4 What interest rate will apply here? Consider whether to include this acknowledgement. Clause 10: Warranties Clause 10.1 Optional element. What general warranties will the Developer give to the Customer? Clause 10.2 Optional element. What warranties in relation to the quality of the software will the Developer give to the Customer? Is this warranty subject to a materiality threshold? Will this warranty relate to a specific period? For what period will this warranty apply? Clause 10.3 Optional element. Should this warranty cover documentation? What is the scope of this warranty? Clause 10.4 Optional element. Should this warranty cover documentation? What is the jurisdictional coverage of the warranty? Clause 10.5 Optional element. In what circumstances may the Developer exercise its rights under this provision? Should there be an express requirement for the Developer to act reasonably in relation to the exercise of its rights under this provision? Are there any express limitations on this right to modify? Specify the limitations on the right to modify. Clause 10.6 Optional element. Clause 11: Limitations and exclusions of liability Contractual limitations and exclusions of liability are regulated and controlled by law, and the courts may rule that particular limitations and exclusions of liability in contracts are unenforceable. The courts are particularly likely to intervene where a party is seeking to rely on a limitation or exclusion of liability in its standard terms and conditions, but will also sometimes intervene where a term has been individually negotiated. The courts may be more likely to rule that provisions excluding liability, as opposed to those merely limiting liability, are unenforceable. If there is a risk that any particular limitation or exclusion of liability will be found to be unenforceable by the courts, that provision should be drafted as an independent term, and be numbered separately from the other provisions. It may improve the chances of a limitation or exclusion of liability being found to be enforceable if the party seeking to rely upon it specifically drew it to the attention of the other party before the contract was entered into. Exclusions and limitations of liability in UK contracts are primarily regulated by the Unfair Contract Terms Act 1977 (\"UCTA\"). Contracts regulated by UCTA cannot exclude or restrict a party's liability for death or personal injury resulting from negligence (Section 2(1), UCTA). Except insofar as the relevant term satisfies the requirements of reasonableness, such contracts cannot exclude or restrict liability: (i) for negligence (which includes a breach of an express or implied contractual obligation to take reasonable care or exercise reasonable skill) (Section 2(2), UCTA); or (ii) for misrepresentation (Section 3, Misrepresentation Act 1967). In addition, if a contract is regulated by UCTA, and one of the parties is dealing on the other's written standard terms of business, then except insofar as the relevant contractual term satisfies the requirements of reasonableness the other party cannot: (i) exclude or restrict its liability in respect of a breach of contract; or (ii) claim to be entitled to render a contractual performance substantially different from that which was reasonably expected of it; or (iii) claim to be entitled, in respect of the whole or any part of its contractual obligation, to render no contractual performance at all (see Section 3, UCTA). UCTA includes various other restrictions, particularly in the case of contracts for the sale of goods and contracts under which possession or ownership of goods passes. If you wish to try to limit/exclude for liability in respect of reckless, deliberate, personal and/or repudiatory breaches of contract, you should specify this in relation to the relevant provision. In many circumstances, however, the courts will find these types of limitations and exclusions to be unenforceable. Somewhat different rules apply to limitations of liability in contracts with consumers, and these provisions should not be used in relation to such contracts. These guidance notes provide a very incomplete and basic overview of a complex subject. Accordingly, you should take legal advice if you may wish to rely upon a limitation or exclusion of liability. Unfair Contract Terms Act 1977 - https://www.legislation.gov.uk/ukpga/1977/50 Clause 11.1 Do not delete this provision (except upon legal advice). Without this provision, the specific limitations and exclusions of liability in the document are more likely to be unenforceable. Clause 11.3 Which of the parties will be the beneficiary of this limitation of liability? Clause 11.4 Optional element. Which of the parties will be the beneficiary of this limitation of liability? Clause 11.5 Optional element. Which of the parties will be the beneficiary of this limitation of liability? Clause 11.6 Optional element. Which of the parties will be the beneficiary of this limitation of liability? Clause 11.7 Optional element. Which of the parties will be the beneficiary of this limitation of liability? Clause 11.8 Optional element. Which of the parties will be the beneficiary of this limitation of liability? Clause 11.9 Optional element. Which of the parties will be the beneficiary of this limitation of liability? Clause 11.10 Optional element. Do you want to include a per event liability cap in this document? Liability caps may be unenforceable in practice. Which of the parties will be the beneficiary of this liability cap? Do you want to include a per event liability cap in this document? What monetary amount should be used in the liability cap? What floating amount should be used in the liability cap? Clause 11.11 Optional element. Do you want to include an aggregate liability cap in this document? Liability caps may be unenforceable in practice. Which of the parties will be the beneficiary of this liability cap? What monetary amount should be used in the liability cap? What floating amount should be used in the liability cap? Clause 12: Force Majeure Event Optional element. Clause 12.1 Will obligations to make payments be excluded from the scope of the force majeure exception? Clause 12.2 Optional element. Clause 12.3 Optional element. Clause 13: Termination Clause 13.1 Optional element. What notice period will apply? Clause 13.2 Optional element. What notice period will apply? Clause 13.3 In what circumstances may a party terminate for breach? Will all breaches, or only material breaches, give rise to a right of termination? What is the remediation period here? Should each party have a right to terminate if the other party is persistently in breach of contract, even where there has been no material breach? Clause 13.4 Depending upon the status of the parties, the circumstances of the termination and the applicable law, some of the rights to terminate set out here may be unenforceable. Will the winding up of a party as part of a solvent company reorganisation give rise to a right of termination for the other party? Clause 13.5 Optional element. What notice period applies in the case of termination for non-payment? Clause 14: Effects of termination Clause 14.3 Optional element. This provision will not be suitable in all circumstances. The appropriate treatment of charges upon termination will vary from contract to contract. Note, also, that this provision only deals with charges in respect of services. Within what period following termination must charges in respect of services be settled? Clause 15: Further assurance Optional element. Clause 15.1 Is the Developer's obligation here absolute or qualified? What standard of effort should be applied to the obligation? Clause 15.2 Optional element. Which party will pay the costs and expenses associated with any assistance under this provision? Clause 15.3 Optional element. Who will pay for the Developer's assistance? Clause 16: Notices Optional element. Clause 16.2 Insert all required addressee, address and contact details for contractual notices sent to the Developer. Insert all required addressee, address and contact details for contractual notices sent to the Customer. Clause 17: Subcontracting Optional element. Clause 17.1 Will the Customer only be permitted to withhold consent to subcontracting where it is reasonable to do so? Clause 17.1 Will the Developer be obliged to notify the Customer of any subcontracting arrangements? Clause 18: General Clause 18.1 Optional element. Clause 18.2 Optional element. Clause 18.3 Optional element. This is intended to prevent, for example, one party wrongfully claiming that a term of the contract was changed in a telephone call. Clause 18.4 Optional element. Clause 18.5 Optional element. This provision is designed to exclude any rights a third party may have under the Contracts (Rights of Third Parties) Act 1999. Contracts (Rights of Third Parties) Act 1999 - https://www.legislation.gov.uk/ukpga/1999/31 Clause 18.6 Optional element. Clause 18.7 This template has been drafted to work in the English law context. If you plan to change the governing law, you should have the document reviewed by someone with expertise in the law of the relevant jurisdiction. Which law will govern the document? Clause 18.8 Optional element. As a practical matter, it makes sense for the courts with expertise in the relevant law to have the right to adjudicate disputes. Where one of the parties is outside England (or at least the UK), you may want to grant the courts of their home jurisdiction the right to adjudicate disputes, as this could ease enforcement in some circumstances. The courts of which jurisdiction will have the exclusive right to adjudicate disputes relating to the document (subject to applicable law)? Clause 19: Interpretation Should provisions concerning the interpretation of the document be included? Clause 19.1 Optional element. Clause 19.2 Optional element. Clause 19.3 Optional element. Clause 19.4 Optional element. This provision is designed to exclude the application of a rule of interpretation known as the ejusdem generis rule. That rule may affect the interpretation of contractual clauses that list particular examples or instances of some more general idea, by limiting the scope of the general idea by reference to those particular examples or instances. EXECUTION Subsection: Execution of contract by First Party (individual or company) Will the contract be signed by a contracting individual, or an individual on behalf of a contracting company? What is the full name of the Developer signatory? On what date is the Developer signing the contract? Add the full name of the person who will sign the document on behalf of the Developer. On what date is the contract being signed on behalf of the Developer? Subsection: Execution of contract by Second Party (individual or company) Will the contract be signed by a contracting individual, or an individual on behalf of a contracting company? What is the full name of the Customer signatory? On what date is the Customer signing the contract? Add the full name of the person who will sign the document on behalf of the Customer. On what date is the contract being signed on behalf of the Customer? SCHEDULE 1 (SOFTWARE DEVELOPMENT PARTICULARS) Paragraph 1: Specification of Software Specify the software. Paragraph 2: Third Party Materials Identify those third party materials that will be incorporated. Paragraph 3: Timetable Optional element. Insert the timetable for the performance of the parties' obligations. Paragraph 4: Financial provisions Insert financial provisions.\n"
     ]
    }
   ],
   "source": [
    "print(text)"
   ]
  },
  {
   "cell_type": "markdown",
   "metadata": {
    "id": "kbjIDN_RM-bX"
   },
   "source": [
    "**T5 (Text-To-Text Transfer Transformer)**"
   ]
  },
  {
   "cell_type": "code",
   "execution_count": 9,
   "metadata": {
    "colab": {
     "base_uri": "https://localhost:8080/"
    },
    "id": "-Uhy3hFuJIgh",
    "outputId": "847a56c3-fb6f-469f-a67e-98c323cc6a83"
   },
   "outputs": [
    {
     "name": "stderr",
     "output_type": "stream",
     "text": [
      "/usr/local/lib/python3.10/dist-packages/huggingface_hub/utils/_token.py:89: UserWarning: \n",
      "The secret `HF_TOKEN` does not exist in your Colab secrets.\n",
      "To authenticate with the Hugging Face Hub, create a token in your settings tab (https://huggingface.co/settings/tokens), set it as secret in your Google Colab and restart your session.\n",
      "You will be able to reuse this secret in all of your notebooks.\n",
      "Please note that authentication is recommended but still optional to access public models or datasets.\n",
      "  warnings.warn(\n",
      "You are using the default legacy behaviour of the <class 'transformers.models.t5.tokenization_t5.T5Tokenizer'>. This is expected, and simply means that the `legacy` (previous) behavior will be used so nothing changes for you. If you want to use the new behaviour, set `legacy=False`. This should only be set if you understand what it means, and thoroughly read the reason why this was added as explained in https://github.com/huggingface/transformers/pull/24565\n"
     ]
    }
   ],
   "source": [
    "model = T5ForConditionalGeneration.from_pretrained('t5-small')\n",
    "tokenizer = T5Tokenizer.from_pretrained('t5-small')\n",
    "device = torch.device('cpu')"
   ]
  },
  {
   "cell_type": "code",
   "execution_count": 10,
   "metadata": {
    "id": "E6ra1fkgJaGj"
   },
   "outputs": [],
   "source": [
    "preprocessed_text = text.strip().replace('\\n','')\n",
    "t5_input_text = 'summarize: ' + preprocessed_text"
   ]
  },
  {
   "cell_type": "code",
   "execution_count": 11,
   "metadata": {
    "colab": {
     "base_uri": "https://localhost:8080/"
    },
    "id": "A6bNmvhVJa3a",
    "outputId": "0e32a0ea-a11c-4cfc-dd8a-f297d84aed6d"
   },
   "outputs": [
    {
     "name": "stderr",
     "output_type": "stream",
     "text": [
      "Truncation was not explicitly activated but `max_length` is provided a specific value, please use `truncation=True` to explicitly truncate examples to max length. Defaulting to 'longest_first' truncation strategy. If you encode pairs of sequences (GLUE-style) with the tokenizer you can select this strategy more precisely by providing a specific strategy to `truncation`.\n"
     ]
    }
   ],
   "source": [
    "tokenized_text = tokenizer.encode(t5_input_text, return_tensors='pt', max_length=512).to(device)"
   ]
  },
  {
   "cell_type": "code",
   "execution_count": 12,
   "metadata": {
    "id": "OkWyiAcQJbTw"
   },
   "outputs": [],
   "source": [
    "summary_ids = model.generate(tokenized_text, min_length=30, max_length=200)\n",
    "summary = tokenizer.decode(summary_ids[0], skip_special_tokens=True)"
   ]
  },
  {
   "cell_type": "code",
   "execution_count": 13,
   "metadata": {
    "colab": {
     "base_uri": "https://localhost:8080/"
    },
    "id": "kazt78_uJbWs",
    "outputId": "c1b8a61f-1e73-4c45-81d0-0b8a4deb1261"
   },
   "outputs": [
    {
     "name": "stdout",
     "output_type": "stream",
     "text": [
      "a licence to use this template without the attribution / credit is required. a licence to use this template is required to retain the attribution / credit incorporated into the template. a licence to use this template without the attribution / credit is required.\n"
     ]
    }
   ],
   "source": [
    "print(summary)"
   ]
  },
  {
   "cell_type": "markdown",
   "metadata": {
    "id": "nlgTJqthNHOd"
   },
   "source": [
    "**BART Large (with Long Text Handling)**"
   ]
  },
  {
   "cell_type": "code",
   "execution_count": 14,
   "metadata": {
    "colab": {
     "base_uri": "https://localhost:8080/"
    },
    "id": "B5bVZkpDLN03",
    "outputId": "5db9f122-d19b-4b6b-af8f-5b13afd4a733"
   },
   "outputs": [
    {
     "name": "stderr",
     "output_type": "stream",
     "text": [
      "/usr/local/lib/python3.10/dist-packages/transformers/tokenization_utils_base.py:1601: FutureWarning: `clean_up_tokenization_spaces` was not set. It will be set to `True` by default. This behavior will be depracted in transformers v4.45, and will be then set to `False` by default. For more details check this issue: https://github.com/huggingface/transformers/issues/31884\n",
      "  warnings.warn(\n"
     ]
    }
   ],
   "source": [
    "model_name = \"facebook/bart-large-cnn\"\n",
    "tokenizer = BartTokenizer.from_pretrained(model_name)\n",
    "model = BartForConditionalGeneration.from_pretrained(model_name)"
   ]
  },
  {
   "cell_type": "code",
   "execution_count": 15,
   "metadata": {
    "id": "Sb8FuCOmLN3g"
   },
   "outputs": [],
   "source": [
    "def summarize_text(text):\n",
    "    inputs = tokenizer(text, return_tensors=\"pt\", max_length=1024, truncation=True)\n",
    "    summary_ids = model.generate(\n",
    "        inputs['input_ids'],\n",
    "        num_beams=4,\n",
    "        max_length=200,\n",
    "        min_length=40,\n",
    "        length_penalty=2.0,\n",
    "        early_stopping=True\n",
    "    )\n",
    "    summary = tokenizer.decode(summary_ids[0], skip_special_tokens=True)\n",
    "    return summary"
   ]
  },
  {
   "cell_type": "code",
   "execution_count": 16,
   "metadata": {
    "colab": {
     "base_uri": "https://localhost:8080/"
    },
    "id": "UZHYTMxDJbbR",
    "outputId": "a0596909-9a7b-4764-af93-83c891da176e"
   },
   "outputs": [
    {
     "name": "stdout",
     "output_type": "stream",
     "text": [
      "Free software development agreement: cover 1. This template legal document was produced and published by Docular Limited. We control the copyright in this template. You may only use this template in accordance with the licensing provisions in our terms and conditions.\n"
     ]
    }
   ],
   "source": [
    "summary = summarize_text(text)\n",
    "print(summary)"
   ]
  },
  {
   "cell_type": "markdown",
   "metadata": {
    "id": "OBZyoXBUQpwE"
   },
   "source": [
    "**TextRank**"
   ]
  },
  {
   "cell_type": "code",
   "execution_count": 17,
   "metadata": {
    "id": "5M788tijQLvT"
   },
   "outputs": [],
   "source": [
    "def text_rank_summary(text, ratio=0.2):\n",
    "    summary = summarizer.summarize(text, ratio=ratio)\n",
    "    return summary"
   ]
  },
  {
   "cell_type": "code",
   "execution_count": 18,
   "metadata": {
    "colab": {
     "base_uri": "https://localhost:8080/"
    },
    "id": "AM8gn4oYQP8t",
    "outputId": "22fb1947-ff36-4200-e72d-9333180d6a0a"
   },
   "outputs": [
    {
     "name": "stdout",
     "output_type": "stream",
     "text": [
      "Free software development agreement: cover 1.\n",
      "Those licensing provisions include an obligation to retain the attribution / credit incorporated into the template.\n",
      "3.\tBuy a licence to use this template without the attribution / credit here: https://www.website-contracts.co.uk/software-development-agreement.html 4.\n",
      "6.\tGet a quote for the completion of this template here: https://seqlegal.com/request-quote  Software development agreement DATE [Date] PARTIES 1.\n",
      "Definitions 1.1\tIn this Agreement[, except to the extent expressly provided otherwise]: \"Agreement\" means this agreement including any Schedules, and any amendments to this Agreement from time to time; \"Assignment IP\" means [all Intellectual Property Rights in the Software and the Documentation, excluding the Intellectual Property Rights in the Third Party Materials]; \"Business Day\" means any weekday other than a bank or public holiday in [[England]] OR [[jurisdiction]]; \"Business Hours\" means the hours of [09:00 to 17:00] [GMT/BST] OR [[time zone]] on a Business Day; \"Charges\" means: (a)\t[the charges and other payable amounts specified in Paragraph 4 of Schedule 1 (Software Development Particulars) and elsewhere in this Agreement]; (b)\t[charges calculated by multiplying [the standard time-based charging rates of the Developer (as notified by the Developer to the Customer before the date of this Agreement)] by the time spent by the personnel of the Developer performing [the Services] (rounded [down by the Developer to the nearest quarter hour])]; and (c)\t[such other charges and payable amounts as may be agreed in writing by the parties from time to time]; [additional list items] \"Development Services\" means [the design and development of the Software by the Developer]; \"Documentation\" means [the documentation for the Software produced by the Developer and delivered or made available by the Developer to the Customer]; \"Effective Date\" means [the date of execution of this Agreement]; \"Force Majeure Event\" means [an event, or a series of related events, that is outside the reasonable control of the party affected (which may include failures of the internet or any public telecommunications network, hacker attacks, denial of service attacks, virus or other malicious software attacks or infections, power failures, industrial disputes affecting any third party, changes to the law, disasters, epidemics, pandemics, explosions, fires, floods, riots, terrorist attacks and wars)]; \"Intellectual Property Rights\" means [all intellectual property rights wherever in the world, whether registrable or unregistrable, registered or unregistered, including any application or right of application for such rights (and these \"intellectual property rights\" include copyright and related rights, database rights, confidential information, trade secrets, know-how, business names, trade names, trade marks, service marks, passing off rights, unfair competition rights, patents, petty patents, utility models, semi-conductor topography rights and rights in designs)]; \"Schedule\" means any schedule attached to the main body of this Agreement; \"Services\" means [any services that the Developer provides to the Customer, or has an obligation to provide to the Customer, under this Agreement]; \"Software\" means the software identified in Paragraph 1 of Schedule 1 (Software Development Particulars)[, including [the Source Code of that software created by or on behalf of the Developer in the course of the provision of the Development Services and compiled to create the executable version of that software]]; \"Software Defect\" means a defect, error or bug in the Software having [an adverse effect] OR [a material adverse effect] on [the appearance, operation, functionality or performance of the Software][, but excluding any defect, error or bug caused by or arising as a result of: (a)\t[any act or omission of the Customer or any person authorised by the Customer to use the Software]; (b)\t[any use of the Software contrary to the Documentation by the Customer or any person authorised by the Customer to use the Software]; (c)\t[a failure of the Customer to perform or observe any of its obligations in this Agreement]; and/or (d)\t[an incompatibility between the Software and any other system, network, application, program, hardware or software not specified as compatible in the Software Specification];] \"Software Specification\" means [the specification for the Software set out in Paragraph 1 of Schedule 1 (Software Development Particulars) and in the Documentation][, as it may be varied by the written agreement of the parties from time to time]; \"Source Code\" means [software code in human-readable form, including human-readable code compiled to create software or decompiled from software, but excluding interpreted code]; \"Term\" means [the term of this Agreement, commencing in accordance with Clause 3.1 and ending in accordance with Clause 3.2]; and \"Third Party Materials\" means the works and/or materials comprised in the Software, the Intellectual Property Rights in which are owned by a third party[, and which are specified in Paragraph 2 of Schedule 1 (Software Development Particulars) or which the parties agree in writing shall be incorporated into the Software].\n",
      "2.\tCredit 2.1\tThis document was created using a template from Docular (https://seqlegal.com/free-legal-documents/software-development-agreement).\n",
      "3.\tTerm 3.1\tThis Agreement shall come into force upon the Effective Date.\n",
      "3.2\tThis Agreement shall continue in force [indefinitely] OR [until: (a)\tall the Services have been completed; (b)\tall the Software has been delivered; and (c)\tall the Charges have been paid in cleared funds, \tupon which it will terminate automatically], subject to termination in accordance with Clause 13.\n",
      "4.\tDevelopment Services 4.1\tThe Developer shall provide the Development Services to the Customer.\n",
      "4.2\tThe Developer shall [ensure] OR [use all reasonable endeavours to ensure] OR [use reasonable endeavours to ensure] that the Development Services are provided in accordance with the timetable set out in Paragraph 3 of Schedule 1 (Software Development Particulars), and that [a copy of the Software and Documentation is] delivered to the Customer[ [by means of a secure online file sharing system, on a USB memory stick or on optical disk]] in accordance with that timetable.\n",
      "4.3\tThe Customer acknowledges that a delay in the Customer performing its obligations under this Agreement may result in a delay in the performance of the Development Services; and subject to Clause 11.1 the Developer will not be liable to the Customer in respect of any failure to meet the Development Services timetable to the extent that that failure arises out of a delay in the Customer performing its obligations under this Agreement.\n",
      "4.4\tThe Developer shall ensure that [the Source Code, and any interpreted code, comprised in the Software created by or on behalf of the Developer during the provision of the Development Services] is [written to a professional standard, conforms with any coding standards document agreed between the parties, and incorporates sufficient commentary to enable a competent third party developer to understand, adapt, maintain and update the code].\n",
      "4.5\tThe Developer shall keep the Customer reasonably informed of the progress of the Development Services and, in particular, shall inform the Customer of any substantial obstacles or likely delays in the performance of the Development Services.\n",
      "4.6\tThe Developer shall [during the course of the Development Services at the request of the Customer] [supply to the Customer] OR [make accessible to the Customer] [a current development version of the Software] for the purposes of [enabling the Customer to assess the progress of the Development Services and provide feedback to the Developer regarding the Software].\n",
      "5.\tAssignment 5.1\tOn and from [the date of delivery of the Software to the Customer], the Developer hereby assigns to the Customer[ with full title guarantee] all of the Assignment IP.\n",
      "OR 5.1\tOn and from [the date of delivery of the Software to the Customer], the Developer hereby assigns to the Customer all of its right, title and interest in the Assignment IP.\n",
      "6.\tThird Party Materials 6.1\tSubject to any express written agreement between the parties, the Developer shall ensure that the Third Party Materials are: (a)\t[licensed to the Customer in accordance with the relevant licensor's standard licensing terms (which the Customer acknowledges may be open source or Creative Commons licensing terms)]; (b)\t[licensed to the Customer on reasonable terms notified by the Developer to the Customer]; (c)\t[sub-licensed by the Developer to the Customer on reasonable terms notified in writing by the Developer to the Customer]; or (d)\t[sub-licensed by the Developer to the Customer on the basis of a non-exclusive, worldwide, perpetual and irrevocable licence to use the Third Party Materials in connection with the Software].\n",
      "Customer obligations 7.1\tSave to the extent that the parties have agreed otherwise in writing, the Customer must provide to the Developer, or procure for the Developer, such: (a)\t[co-operation, support and advice]; and (b)\t[information and documentation], \tas are reasonably necessary to enable the Developer to perform its obligations under this Agreement.\n",
      "8.\tCharges 8.1\tThe Customer shall pay the Charges to the Developer in accordance with this Agreement.\n",
      "8.2\tIf the Charges are based in whole or part upon the time spent by the Developer performing the Services, the Developer must obtain the Customer's written consent before performing Services that result in any estimate of time-based Charges given to the Customer being exceeded or any budget for time-based Charges agreed by the parties being exceeded; and unless the Customer agrees otherwise in writing, the Customer shall not be liable to pay to the Developer any Charges in respect of Services performed in breach of this Clause 8.2.\n",
      "8.3\tAll amounts stated in or in relation to this Agreement are, unless the context requires otherwise, stated [inclusive of any applicable value added taxes] OR [exclusive of any applicable value added taxes, which will be added to those amounts and payable by the Customer to the Developer].\n",
      "8.4\tThe Developer may elect to vary [any element of the Charges] by giving to the Customer not less than [30 days'] written notice of the variation[ expiring on [any anniversary of the date of execution of this Agreement]][, providing that no such variation shall constitute a percentage increase in [the relevant element of the Charges] that exceeds[ [2]% over] the percentage increase, since the date of the most recent variation of [the relevant element of the Charges][ under this Clause 8.4] (or, if no such variation has occurred, since the date of execution of this Agreement), in [the Retail Prices Index (all items) published by the UK Office for National Statistics].] 9.\n",
      "Payments 9.1\tThe Developer shall issue invoices for the Charges to the Customer [from time to time during the Term] OR [on or after the invoicing dates set out in Paragraph 4 of Schedule 1 (Software Development Particulars)] OR [[dates for invoicing]].\n",
      "9.2\tThe Customer must pay the Charges to the Developer within the period of [30 days] following [the issue of an invoice in accordance with this Clause 9] OR [the receipt of an invoice issued in accordance with this Clause 9].\n",
      "9.3\tThe Customer must pay the Charges by [debit card, credit card, direct debit or bank transfer] (using such payment details as are notified by the Developer to the Customer from time to time).\n",
      "9.4\tIf the Customer does not pay any amount properly due to the Developer under this Agreement, the Developer may: (a)\tcharge the Customer interest on the overdue amount at the rate of [8% per annum above the Bank of England base rate from time to time] (which interest will accrue daily until the date of actual payment and be compounded at the end of each calendar month); or (b)\tclaim interest and statutory compensation from the Customer pursuant to the Late Payment of Commercial Debts (Interest) Act 1998.\n",
      "OR 9.4\tIf the Customer does not pay any amount properly due to the Developer under this Agreement, the Developer may charge the Customer interest on the overdue amount at the rate of [2% per annum above the Bank of England base rate from time to time] (which interest will accrue daily until the date of actual payment and be compounded at the end of each calendar month).[ The Developer acknowledges and agrees that it shall have no right to claim interest or statutory compensation under the Late Payment of Commercial Debts (Interest) Act 1998, and that its contractual rights under this Clause 9.4 constitute a substantial remedy within the meaning of that Act.] 10.\n",
      "Warranties 10.1\tThe Developer warrants to the Customer that: (a)\t[the Developer has the legal right and authority to enter into this Agreement and to perform its obligations under this Agreement]; (b)\t[the Developer will comply with all applicable legal and regulatory requirements applying to the exercise of the Developer's rights and the fulfilment of the Developer's obligations under this Agreement]; and (c)\t[the Developer has or has access to all necessary know-how, expertise and experience to perform its obligations under this Agreement].\n",
      "[additional list items] 10.2\tThe Developer warrants to the Customer that: (a)\t[the Software as provided will conform in all [material] respects with the Software Specification]; (b)\t[the Software will be supplied free from Software Defects[ and will remain free from Software Defects[ for a period of at least 12 months following the supply of the Software]]]; (c)\t[the Software will be supplied free from viruses, worms, Trojan horses, ransomware, spyware, adware and other malicious software programs]; and (d)\t[the Software shall incorporate security features reflecting the requirements of good industry practice].\n",
      "[additional list items] 10.3\tThe Developer warrants to the Customer that the Software[ and Documentation][, when used by the Customer in accordance with this Agreement,] will not breach [any laws, statutes or regulations applicable under English law].\n",
      "10.4\tThe Developer warrants to the Customer that the Software[ and Documentation], when used by the Customer in accordance with this Agreement, will not infringe the Intellectual Property Rights of any person [in any jurisdiction and under any applicable law].\n",
      "10.5\tIf [the Developer reasonably determines, or any third party alleges, that the use of the Software by the Customer in accordance with this Agreement infringes any person's Intellectual Property Rights], the Developer may[ acting reasonably] at its own cost and expense: (a)\tmodify the Software in such a way that it no longer infringes the relevant Intellectual Property Rights[, providing that [any such modification must not introduce any Software Defects into the Software and must not result in the Software failing to conform with the Software Specification]]; or (b)\tprocure for the Customer the right to use the Software in accordance with this Agreement.\n",
      "10.6\tThe Customer warrants to the Developer that it has the legal right and authority to enter into this Agreement and to perform its obligations under this Agreement.\n",
      "10.7\tAll of the parties' warranties and representations in respect of the subject matter of this Agreement are expressly set out in this Agreement.\n",
      "To the maximum extent permitted by applicable law, no other warranties or representations concerning the subject matter of this Agreement will be implied into this Agreement or any related contract.\n",
      "Limitations and exclusions of liability 11.1\tNothing in this Agreement will: (a)\tlimit or exclude any liability for death or personal injury resulting from negligence; (b)\tlimit or exclude any liability for fraud or fraudulent misrepresentation; (c)\tlimit any liabilities in any way that is not permitted under applicable law; or (d)\texclude any liabilities that may not be excluded under applicable law.\n",
      "11.2\tThe limitations and exclusions of liability set out in this Clause 11 and elsewhere in this Agreement:  (a)\tare subject to Clause 11.1; and (b)\tgovern all liabilities arising under this Agreement or relating to the subject matter of this Agreement, including liabilities arising in contract, in tort (including negligence) and for breach of statutory duty, except to the extent expressly provided otherwise in this Agreement.\n",
      "11.3\t[Neither party shall be liable to the other party] OR [The Developer shall not be liable to the Customer] OR [The Customer shall not be liable to the Developer] in respect of any losses arising out of a Force Majeure Event.\n",
      "11.4\t[Neither party shall be liable to the other party] OR [The Developer shall not be liable to the Customer] OR [The Customer shall not be liable to the Developer] in respect of any loss of profits or anticipated savings.\n",
      "11.5\t[Neither party shall be liable to the other party] OR [The Developer shall not be liable to the Customer] OR [The Customer shall not be liable to the Developer] in respect of any loss of revenue or income.\n",
      "11.6\t[Neither party shall be liable to the other party] OR [The Developer shall not be liable to the Customer] OR [The Customer shall not be liable to the Developer] in respect of any loss of use or production.\n",
      "11.7\t[Neither party shall be liable to the other party] OR [The Developer shall not be liable to the Customer] OR [The Customer shall not be liable to the Developer] in respect of any loss of business, contracts or opportunities.\n",
      "11.8\t[Neither party shall be liable to the other party] OR [The Developer shall not be liable to the Customer] OR [The Customer shall not be liable to the Developer] in respect of any loss or corruption of any data or database.\n",
      "11.9\t[Neither party shall be liable to the other party] OR [The Developer shall not be liable to the Customer] OR [The Customer shall not be liable to the Developer] in respect of any special, indirect or consequential loss or damage.\n",
      "11.10\tThe liability of [each party to the other party] OR [the Developer to the Customer] OR [the Customer to the Developer] under this Agreement in respect of any event or series of related events shall not exceed the greater of: (a)\t[amount]; and (b)\t[the total amount paid and payable by the Customer to the Developer under this Agreement in the 12-month period preceding the commencement of the event or events].\n",
      "11.11\tThe aggregate liability of [each party to the other party] OR [the Developer to the Customer] OR [the Customer to the Developer] under this Agreement shall not exceed the greater of: (a)\t[amount]; and (b)\t[the total amount paid and payable by the Customer to the Developer under this Agreement].\n",
      "Force Majeure Event 12.1\tIf a Force Majeure Event gives rise to a failure or delay in either party performing any obligation under this Agreement[ (other than any obligation to make a payment)], that obligation will be suspended for the duration of the Force Majeure Event.\n",
      "12.2\tA party that becomes aware of a Force Majeure Event which gives rise to, or which is likely to give rise to, any failure or delay in that party performing any obligation under this Agreement, must: (a)\tpromptly notify the other; and (b)\tinform the other of the period for which it is estimated that such failure or delay will continue.\n",
      "12.3\tA party whose performance of its obligations under this Agreement is affected by a Force Majeure Event must take reasonable steps to mitigate the effects of the Force Majeure Event.\n",
      "Termination 13.1\tThe Developer may terminate this Agreement by giving to the Customer [not less than 30 days'] written notice of termination.\n",
      "13.2\tThe Customer may terminate this Agreement by giving to the Developer [not less than 30 days'] written notice of termination.\n",
      "13.3\tEither party may terminate this Agreement immediately by giving written notice of termination to the other party if: (a)\tthe other party commits any [breach] OR [material breach] of this Agreement[, and the breach is not remediable]; (b)\t[the other party commits a [breach] OR [material breach] of this Agreement, and the breach is remediable but the other party fails to remedy the breach within the period of [30 days] following the giving of a written notice to the other party requiring the breach to be remedied]; or (c)\t[the other party persistently breaches this Agreement (irrespective of whether such breaches collectively constitute a material breach)].\n",
      "13.4\tSubject to applicable law, either party may terminate this Agreement immediately by giving written notice of termination to the other party if: (a)\tthe other party: (i)\tis dissolved; (ii)\tceases to conduct all (or substantially all) of its business; (iii)\tis or becomes unable to pay its debts as they fall due; (iv)\tis or becomes insolvent or is declared insolvent; or (v)\tconvenes a meeting or makes or proposes to make any arrangement or composition with its creditors; (b)\tan administrator, administrative receiver, liquidator, receiver, trustee, manager or similar is appointed over any of the assets of the other party; (c)\tan order is made for the winding up of the other party, or the other party passes a resolution for its winding up[ (other than for the purpose of a solvent company reorganisation where the resulting entity will assume all the obligations of the other party under this Agreement)]; or (d)\t[if that other party is an individual:  (i)\tthat other party becomes incapable of managing his or her own affairs as a result of illness or incapacity; or (ii)\tthat other party is the subject of a bankruptcy petition or order, \tand if that other party dies then this Agreement shall automatically terminate].\n",
      "13.5\tThe Developer may terminate this Agreement immediately by giving written notice to the Customer if: (a)\tany amount due to be paid by the Customer to the Developer under this Agreement is unpaid by the due date and remains unpaid upon the date that that written notice of termination is given; and (b)\tthe Developer has given to the Customer at least [30 days'] written notice, following the failure to pay, of its intention to terminate this Agreement in accordance with this Clause 13.5.\n",
      "Effects of termination 14.1\tUpon the termination of this Agreement, all of the provisions of this Agreement shall cease to have effect, save that the following provisions of this Agreement shall survive and continue to have effect (in accordance with their express terms or otherwise indefinitely): [Clauses 1, 9.2, 9.4, 11, 14, 15, 18 and 19].\n",
      "14.2\tExcept to the extent expressly provided otherwise in this Agreement, the termination of this Agreement shall not affect the accrued rights of either party.\n",
      "14.3\tWithin [30 days] following the termination of this Agreement for any reason: (a)\tthe Customer must pay to the Developer any Charges in respect of Services provided to the Customer before the termination of this Agreement; and (b)\tthe Developer must refund to the Customer any Charges paid by the Customer to the Developer in respect of Services that were to be provided to the Customer after the termination of this Agreement, \twithout prejudice to the parties' other legal rights.\n",
      "Further assurance 15.1\tThe Developer must[ use [reasonable endeavours] OR [best endeavours] to]: (a)\tdo or procure the doing of all acts; and (b)\texecute or procure the execution of all documents, \tthat the Customer may reasonably request from time to time in order to perfect or confirm the Customer's ownership of the rights assigned by this Agreement.\n",
      "15.2\tThe Developer must provide to the Customer [at its own cost and expense] OR [at the cost and expense of the Customer] such reasonable assistance as the Customer may request in order to register the Customer's rights in the Assignment IP with any intellectual property office or registry.\n",
      "15.3\tThe Developer must provide to the Customer [at its own cost and expense] OR [at the cost and expense of the Customer] all reasonable assistance in connection with any legal proceedings relating to the rights assigned under this Agreement that are brought by, or against, the Customer.\n",
      "Notices 16.1\tAny notice from one party to the other party under this Agreement must be given by one of the following methods (using the relevant contact details set out in Clause 16.2):    (a)\t[[delivered personally or sent by courier], in which case the notice shall be deemed to be received [upon delivery]]; or (b)\t[sent by [recorded signed-for post], in which case the notice shall be deemed to be received [2 Business Days following posting]], [additional list items] \tproviding that, if the stated time of deemed receipt is not within Business Hours, then the time of deemed receipt shall be when Business Hours next begin after the stated time.\n",
      "16.2\tThe parties' contact details for notices under this Clause 16 are as follows: (a)\tin the case of notices sent by the Customer to the Developer, [contact details]; and (b)\tin the case of notices sent by the Developer to the Customer, [contact details].\n",
      "16.3\tThe addressee and contact details set out in Clause 16.2 may be updated from time to time by a party giving written notice of the update to the other party in accordance with this Clause 16.\n",
      "Subcontracting 17.1\tThe Developer must not subcontract any of its obligations under this Agreement without the prior written consent of the Customer[, providing that the Customer must not unreasonably withhold or delay the giving of such consent].\n",
      "OR 17.1\tSubject to any express restrictions elsewhere in this Agreement, the Developer may subcontract any of its obligations under this Agreement[, providing that the Developer must give to the Customer, promptly following the appointment of a subcontractor, a written notice specifying the subcontracted obligations and identifying the subcontractor in question].\n",
      "17.2\tThe Developer shall remain responsible to the Customer for the performance of any subcontracted obligations.\n",
      "General 18.1\tNo breach of any provision of this Agreement shall be waived except with the express written consent of the party not in breach.\n",
      "18.3\tThis Agreement may not be varied except by a written document signed by or on behalf of each of the parties.\n",
      "18.4\tNeither party may without the prior written consent of the other party assign, transfer, charge, license or otherwise deal in or dispose of any contractual rights or obligations under this Agreement.\n",
      "The rights of the parties to terminate, rescind, or agree any amendment, waiver, variation or settlement under or relating to this Agreement are not subject to the consent of any third party.\n",
      "18.6\tSubject to Clause 11.1, this Agreement shall constitute the entire agreement between the parties in relation to the subject matter of this Agreement, and shall supersede all previous agreements, arrangements and understandings between the parties in respect of that subject matter.\n",
      "19.2\tThe Clause headings do not affect the interpretation of this Agreement.\n",
      "SCHEDULE 1 (SOFTWARE DEVELOPMENT PARTICULARS) 1.\n",
      "Financial provisions [Insert financial provisions]  Free software development agreement: drafting notes Software development contracts can be both legally and factually complex, and it is almost always a good idea to set out the basis upon which the software is being developed in a written contract.\n",
      "The basic obligations of the developer here are to produce software meeting a written specification and to deliver that software to the customer by some agreed means, all within a pre-defined timetable.\n",
      "The developer's obligations are, however, subject to the customer performing its obligations under the agreement - e.g. providing feedback or content - on time.\n",
      "Software development agreements may provide that copyright and other intellectual property rights in the software are assigned or licensed to the customer.\n",
      "This agreement assumes that rights in the software will be assigned to the customer, although third-party code and other third-party materials included with the software may be carved out from the assignment.\n",
      "This template is equivalent to our basic software development agreement.\n",
      "The standard and premium software development agreements that we publish include a range of clauses that are omitted from this template.\n",
      "The omitted clauses cover user acceptance testing, set up of the software in the customer's environment or a cloud environment, payment of expenses by the customer, the retention and delivery of timesheets by the developer, obligations of confidentiality, indemnities, and many other matters besides.\n",
      "PARTIES Subsection 1 Is the Developer an individual or a company?\n",
      "AGREEMENT Clause 1: Definitions Clause 1.1 Definition of Assignment IP Define \"Assignment IP\".\n",
      "May the specification for the software be varied by the written agreement of the parties?\n",
      "Definition of Third Party Materials Must all third party materials incorporated into the software be specifically identified in the specification of the software or included subject to the parties' agreement?\n",
      "Clause 2: Credit Clause: Free documents licensing warning Optional element.\n",
      "Clause 3: Term Clause 3.2 Is the term of the document indefinite, or will it automatically come to an end after all services and software have been provided and all amounts due have been paid?\n",
      "Clause 4: Development Services Clause 4.2 Will the Developer have an absolute or qualified obligation to meet the timetable for the provision of the development services?\n",
      "Clause 4.3 Optional element.\n",
      "Clause 4.4 Optional element.\n",
      "What obligations will the Developer have in relation to the software code itself?\n",
      "Clause 4.5 Optional element.\n",
      "Clause 4.6 Optional element.\n",
      "When will the Developer's obligations under this provision apply?\n",
      "Will the Developer supply development copies of the software to the Customer, or merely make the development versions available (eg via the internet)?\n",
      "For what purposes may the Customer use the development copy or version?\n",
      "Clause 5.3 Optional element.\n",
      "Clause 6: Third Party Materials Optional element.\n",
      "Clause 6.1 Will the software incorporate any third party materials?\n",
      "Clause 7: Customer obligations Optional element.\n",
      "Clause 7.1 What must the Customer provide to the Developer?\n",
      "Clause 8: Charges Clause 8.2 Optional element.\n",
      "Clause 8.3 Optional element.\n",
      "Clause 8.4 Optional element.\n",
      "Will the Developer be permitted to vary the charges, or any element of the charges, in any circumstances?\n",
      "Clause 9.3 Optional element.\n",
      "Clause 10: Warranties Clause 10.1 Optional element.\n",
      "What general warranties will the Developer give to the Customer?\n",
      "Clause 10.2 Optional element.\n",
      "What warranties in relation to the quality of the software will the Developer give to the Customer?\n",
      "Clause 10.3 Optional element.\n",
      "Clause 10.4 Optional element.\n",
      "Clause 10.5 Optional element.\n",
      "In what circumstances may the Developer exercise its rights under this provision?\n",
      "Should there be an express requirement for the Developer to act reasonably in relation to the exercise of its rights under this provision?\n",
      "Clause 10.6 Optional element.\n",
      "Clause 11: Limitations and exclusions of liability Contractual limitations and exclusions of liability are regulated and controlled by law, and the courts may rule that particular limitations and exclusions of liability in contracts are unenforceable.\n",
      "The courts are particularly likely to intervene where a party is seeking to rely on a limitation or exclusion of liability in its standard terms and conditions, but will also sometimes intervene where a term has been individually negotiated.\n",
      "It may improve the chances of a limitation or exclusion of liability being found to be enforceable if the party seeking to rely upon it specifically drew it to the attention of the other party before the contract was entered into.\n",
      "Contracts regulated by UCTA cannot exclude or restrict a party's liability for death or personal injury resulting from negligence (Section 2(1), UCTA).\n",
      "Except insofar as the relevant term satisfies the requirements of reasonableness, such contracts cannot exclude or restrict liability: (i) for negligence (which includes a breach of an express or implied contractual obligation to take reasonable care or exercise reasonable skill) (Section 2(2), UCTA); or (ii) for misrepresentation (Section 3, Misrepresentation Act 1967).\n",
      "In addition, if a contract is regulated by UCTA, and one of the parties is dealing on the other's written standard terms of business, then except insofar as the relevant contractual term satisfies the requirements of reasonableness the other party cannot: (i) exclude or restrict its liability in respect of a breach of contract; or (ii) claim to be entitled to render a contractual performance substantially different from that which was reasonably expected of it; or (iii) claim to be entitled, in respect of the whole or any part of its contractual obligation, to render no contractual performance at all (see Section 3, UCTA).\n",
      "If you wish to try to limit/exclude for liability in respect of reckless, deliberate, personal and/or repudiatory breaches of contract, you should specify this in relation to the relevant provision.\n",
      "Unfair Contract Terms Act 1977 - https://www.legislation.gov.uk/ukpga/1977/50 Clause 11.1 Do not delete this provision (except upon legal advice).\n",
      "Without this provision, the specific limitations and exclusions of liability in the document are more likely to be unenforceable.\n",
      "Clause 11.3 Which of the parties will be the beneficiary of this limitation of liability?\n",
      "Clause 11.4 Optional element.\n",
      "Clause 11.5 Optional element.\n",
      "Clause 11.6 Optional element.\n",
      "Clause 11.7 Optional element.\n",
      "Clause 11.8 Optional element.\n",
      "Clause 11.9 Optional element.\n",
      "Clause 11.10 Optional element.\n",
      "Clause 11.11 Optional element.\n",
      "Clause 12.2 Optional element.\n",
      "Clause 12.3 Optional element.\n",
      "Clause 13: Termination Clause 13.1 Optional element.\n",
      "Clause 13.2 Optional element.\n",
      "Clause 13.3 In what circumstances may a party terminate for breach?\n",
      "Should each party have a right to terminate if the other party is persistently in breach of contract, even where there has been no material breach?\n",
      "Clause 13.4 Depending upon the status of the parties, the circumstances of the termination and the applicable law, some of the rights to terminate set out here may be unenforceable.\n",
      "Clause 13.5 Optional element.\n",
      "Clause 14: Effects of termination Clause 14.3 Optional element.\n",
      "Clause 15.1 Is the Developer's obligation here absolute or qualified?\n",
      "Clause 15.2 Optional element.\n",
      "Clause 15.3 Optional element.\n",
      "Clause 16: Notices Optional element.\n",
      "Clause 16.2 Insert all required addressee, address and contact details for contractual notices sent to the Developer.\n",
      "Clause 17.1 Will the Customer only be permitted to withhold consent to subcontracting where it is reasonable to do so?\n",
      "Clause 17.1 Will the Developer be obliged to notify the Customer of any subcontracting arrangements?\n",
      "Clause 18.2 Optional element.\n",
      "Clause 18.3 Optional element.\n",
      "Clause 18.4 Optional element.\n",
      "Clause 18.5 Optional element.\n",
      "This provision is designed to exclude any rights a third party may have under the Contracts (Rights of Third Parties) Act 1999.\n",
      "Contracts (Rights of Third Parties) Act 1999 - https://www.legislation.gov.uk/ukpga/1999/31 Clause 18.6 Optional element.\n",
      "Clause 18.8 Optional element.\n",
      "The courts of which jurisdiction will have the exclusive right to adjudicate disputes relating to the document (subject to applicable law)?\n",
      "Clause 19: Interpretation Should provisions concerning the interpretation of the document be included?\n",
      "Clause 19.1 Optional element.\n",
      "On what date is the Developer signing the contract?\n",
      "Add the full name of the person who will sign the document on behalf of the Developer.\n",
      "On what date is the contract being signed on behalf of the Developer?\n",
      "On what date is the Customer signing the contract?\n",
      "Add the full name of the person who will sign the document on behalf of the Customer.\n",
      "On what date is the contract being signed on behalf of the Customer?\n",
      "SCHEDULE 1 (SOFTWARE DEVELOPMENT PARTICULARS) Paragraph 1: Specification of Software Specify the software.\n"
     ]
    }
   ],
   "source": [
    "summary = text_rank_summary(text, ratio=0.5)\n",
    "print(summary)"
   ]
  },
  {
   "cell_type": "markdown",
   "metadata": {
    "id": "FU-3X7ZGWFS-"
   },
   "source": [
    "## Model Comparison"
   ]
  },
  {
   "cell_type": "code",
   "execution_count": 19,
   "metadata": {
    "colab": {
     "base_uri": "https://localhost:8080/"
    },
    "id": "PSSLOtIl8EKZ",
    "outputId": "5b05ed4b-6ecd-4d1b-dc6d-2e3fa9e61e14"
   },
   "outputs": [
    {
     "name": "stderr",
     "output_type": "stream",
     "text": [
      "/usr/local/lib/python3.10/dist-packages/transformers/tokenization_utils_base.py:1601: FutureWarning: `clean_up_tokenization_spaces` was not set. It will be set to `True` by default. This behavior will be depracted in transformers v4.45, and will be then set to `False` by default. For more details check this issue: https://github.com/huggingface/transformers/issues/31884\n",
      "  warnings.warn(\n",
      "Truncation was not explicitly activated but `max_length` is provided a specific value, please use `truncation=True` to explicitly truncate examples to max length. Defaulting to 'longest_first' truncation strategy. If you encode pairs of sequences (GLUE-style) with the tokenizer you can select this strategy more precisely by providing a specific strategy to `truncation`.\n"
     ]
    },
    {
     "name": "stdout",
     "output_type": "stream",
     "text": [
      "\n",
      "Model: T5 Model\n",
      "ROUGE-1: Score(precision=0.10526315789473684, recall=0.15384615384615385, fmeasure=0.125)\n",
      "ROUGE-2: Score(precision=0.0, recall=0.0, fmeasure=0.0)\n",
      "ROUGE-L: Score(precision=0.10526315789473684, recall=0.15384615384615385, fmeasure=0.125)\n",
      "\n",
      "Model: BART Model\n",
      "ROUGE-1: Score(precision=0.17777777777777778, recall=0.6153846153846154, fmeasure=0.27586206896551724)\n",
      "ROUGE-2: Score(precision=0.09090909090909091, recall=0.3333333333333333, fmeasure=0.14285714285714288)\n",
      "ROUGE-L: Score(precision=0.15555555555555556, recall=0.5384615384615384, fmeasure=0.24137931034482757)\n",
      "\n",
      "Model: TextRank Model\n",
      "ROUGE-1: Score(precision=0.0, recall=0.0, fmeasure=0.0)\n",
      "ROUGE-2: Score(precision=0.0, recall=0.0, fmeasure=0.0)\n",
      "ROUGE-L: Score(precision=0, recall=0, fmeasure=0)\n"
     ]
    }
   ],
   "source": [
    "import torch\n",
    "from transformers import T5Tokenizer, T5ForConditionalGeneration, BartForConditionalGeneration, BartTokenizer\n",
    "from summa import summarizer\n",
    "from rouge_score import rouge_scorer\n",
    "\n",
    "# Define a sample reference summary (for evaluation purposes)\n",
    "reference_summary = \"This is a sample reference summary of a legal document for comparison purposes.\"\n",
    "\n",
    "# Pre-load models and tokenizers\n",
    "t5_model = T5ForConditionalGeneration.from_pretrained('t5-small')\n",
    "t5_tokenizer = T5Tokenizer.from_pretrained('t5-small')\n",
    "\n",
    "bart_model = BartForConditionalGeneration.from_pretrained('facebook/bart-large-cnn')\n",
    "bart_tokenizer = BartTokenizer.from_pretrained('facebook/bart-large-cnn')\n",
    "\n",
    "device = torch.device('cpu')\n",
    "\n",
    "# Summarization function for T5 model\n",
    "def summarize_with_t5(text):\n",
    "    t5_input_text = 'summarize: ' + text.strip().replace('\\n', '')\n",
    "    tokenized_text = t5_tokenizer.encode(t5_input_text, return_tensors='pt', max_length=512).to(device)\n",
    "    summary_ids = t5_model.generate(tokenized_text, min_length=30, max_length=200)\n",
    "    return t5_tokenizer.decode(summary_ids[0], skip_special_tokens=True)\n",
    "\n",
    "# Summarization function for BART model\n",
    "def summarize_with_bart(text):\n",
    "    inputs = bart_tokenizer(text, return_tensors=\"pt\", max_length=1024, truncation=True)\n",
    "    summary_ids = bart_model.generate(\n",
    "        inputs['input_ids'], num_beams=4, max_length=200, min_length=40, length_penalty=2.0, early_stopping=True\n",
    "    )\n",
    "    return bart_tokenizer.decode(summary_ids[0], skip_special_tokens=True)\n",
    "\n",
    "# Summarization function for TextRank (Extractive)\n",
    "def summarize_with_textrank(text):\n",
    "    return summarizer.summarize(text, ratio=0.2)\n",
    "\n",
    "# ROUGE scorer setup\n",
    "scorer = rouge_scorer.RougeScorer(['rouge1', 'rouge2', 'rougeL'], use_stemmer=True)\n",
    "\n",
    "# Evaluation function\n",
    "def evaluate_summary(model_name, generated_summary):\n",
    "    scores = scorer.score(reference_summary, generated_summary)\n",
    "    print(f\"\\nModel: {model_name}\")\n",
    "    print(f\"ROUGE-1: {scores['rouge1']}\")\n",
    "    print(f\"ROUGE-2: {scores['rouge2']}\")\n",
    "    print(f\"ROUGE-L: {scores['rougeL']}\")\n",
    "\n",
    "# Sample legal document text (for testing)\n",
    "legal_document_text = \"This is a sample legal document text to evaluate the summarization models. It contains several points related to legal agreements and clauses. The models will generate summaries based on this input.\"\n",
    "\n",
    "# Get summaries from the three models\n",
    "t5_summary = summarize_with_t5(legal_document_text)\n",
    "bart_summary = summarize_with_bart(legal_document_text)\n",
    "textrank_summary = summarize_with_textrank(legal_document_text)\n",
    "\n",
    "# Evaluate and compare models using ROUGE\n",
    "evaluate_summary(\"T5 Model\", t5_summary)\n",
    "evaluate_summary(\"BART Model\", bart_summary)\n",
    "evaluate_summary(\"TextRank Model\", textrank_summary)\n"
   ]
  },
  {
   "cell_type": "markdown",
   "metadata": {
    "id": "8AlrNf3hp7DY"
   },
   "source": [
    "## GUI Part"
   ]
  },
  {
   "cell_type": "code",
   "execution_count": 21,
   "metadata": {
    "colab": {
     "base_uri": "https://localhost:8080/",
     "height": 641,
     "referenced_widgets": [
      "5fc1bc63dc2d403ca32e219a8372494a",
      "bb8a933d32f642128cd3c8aa83ac6e51",
      "80f0ea006faf467ebb3218efbf92d89c",
      "fea7f4d9a2884b43b8c34d4bebf0e79d",
      "2c1e0521f71446d1ac01467236703b0e",
      "df4ffb34fdb54f58b2bea0e2a49ecf3a",
      "49edbb3533734220b4e41832a52e4813",
      "f6e1edfcd4c849bd8bcdc3bff098121a",
      "18d4641ca00e4123aff56512ea22a712",
      "3ea7382208d64667b17a21b762f4a246",
      "a2021c4169994503b3ee9fdf717342fb",
      "a535905b8e8447beacb9e38fda2e0caf",
      "43f0b693cfb6417b9f6978695ab32cda",
      "e1c62cc573054b8584c8dbaeb00cd2e7",
      "b7c7bef1ab754e1c9b51a4e2c6d6e2b4",
      "a29b0c91ac6b426ca26b7f3ef6e62fef",
      "5a89b49db527407a956e367f2caad855",
      "5a4dd796e1e14525a349ea2a379bfe68",
      "fe33f8eb29fc456aa14c80d58b222d08"
     ]
    },
    "id": "GNOo7FFQQVh-",
    "outputId": "040faa2e-569a-4099-e3a3-5d6c578d9261"
   },
   "outputs": [
    {
     "data": {
      "application/vnd.jupyter.widget-view+json": {
       "model_id": "5fc1bc63dc2d403ca32e219a8372494a",
       "version_major": 2,
       "version_minor": 0
      },
      "text/plain": [
       "VBox(children=(HTML(value=\"<h2 style='text-align: center; color: #333;'>Legal Document Summarization Tool</h2>…"
      ]
     },
     "metadata": {},
     "output_type": "display_data"
    }
   ],
   "source": [
    "import ipywidgets as widgets\n",
    "from IPython.display import display, HTML\n",
    "from transformers import BartTokenizer, BartForConditionalGeneration\n",
    "import os\n",
    "import torch\n",
    "import pdfplumber\n",
    "from docx import Document\n",
    "\n",
    "# Function to extract text from PDF\n",
    "def extract_text_from_pdf(file_path):\n",
    "    text_array = []\n",
    "    with pdfplumber.open(file_path) as pdf:\n",
    "        for page in pdf.pages:\n",
    "            text = page.extract_text()\n",
    "            if text:\n",
    "                text_array.append(text.replace('\\n', ' '))\n",
    "    return ' '.join(text_array)\n",
    "\n",
    "# Function to extract text from DOCX\n",
    "def extract_text_from_docx(file_path):\n",
    "    text_array = []\n",
    "    doc = Document(file_path)\n",
    "    for para in doc.paragraphs:\n",
    "        text = para.text.replace('\\n', ' ')\n",
    "        text_array.append(text)\n",
    "    return ' '.join(text_array)\n",
    "\n",
    "# Summarization model (BART)\n",
    "model = BartForConditionalGeneration.from_pretrained('facebook/bart-large-cnn')\n",
    "tokenizer = BartTokenizer.from_pretrained('facebook/bart-large-cnn')\n",
    "device = torch.device('cpu')\n",
    "\n",
    "# Function to summarize text\n",
    "def summarize_text(text):\n",
    "    preprocessed_text = text.strip().replace('\\n', '')\n",
    "\n",
    "    # Prepare input for BART\n",
    "    inputs = tokenizer.encode(\"summarize: \" + preprocessed_text, return_tensors='pt', max_length=1024, truncation=True).to(device)\n",
    "    summary_ids = model.generate(inputs, min_length=30, max_length=200, length_penalty=2.0, num_beams=4, early_stopping=True)\n",
    "    summary = tokenizer.decode(summary_ids[0], skip_special_tokens=True)\n",
    "    return summary\n",
    "\n",
    "# Title label\n",
    "title_label = widgets.HTML(\n",
    "    value=\"<h2 style='text-align: center; color: #333;'>Legal Document Summarization Tool</h2>\"\n",
    ")\n",
    "\n",
    "# File upload widget\n",
    "file_upload = widgets.FileUpload(\n",
    "    accept='.pdf,.docx',  # Accept only PDF and DOCX files\n",
    "    multiple=False  # Only single file upload allowed\n",
    ")\n",
    "\n",
    "# Text area for displaying extracted content\n",
    "text_area = widgets.Textarea(\n",
    "    value='',\n",
    "    placeholder='Extracted text will appear here...',\n",
    "    description='Document Text:',\n",
    "    layout=widgets.Layout(width='600px', height='300px', background_color='#f9f9f9'),\n",
    "    style={'description_width': 'initial'}\n",
    ")\n",
    "\n",
    "# Text area for displaying the summary\n",
    "summary_area = widgets.Textarea(\n",
    "    value='',\n",
    "    placeholder='Summary will appear here...',\n",
    "    description='Summary:',\n",
    "    layout=widgets.Layout(width='600px', height='200px', background_color='#f0f0f0'),\n",
    "    style={'description_width': 'initial'}\n",
    ")\n",
    "\n",
    "# Function to handle file upload and text extraction\n",
    "def on_file_upload(change):\n",
    "    uploaded_file = list(change['new'].values())[0]\n",
    "    file_name = uploaded_file['metadata']['name']\n",
    "    file_content = uploaded_file['content']\n",
    "    extension = os.path.splitext(file_name)[1].lower()\n",
    "\n",
    "    try:\n",
    "        # Save uploaded file temporarily\n",
    "        with open(file_name, 'wb') as f:\n",
    "            f.write(file_content)\n",
    "\n",
    "        # Extract text based on file extension\n",
    "        if extension == '.pdf':\n",
    "            extracted_text = extract_text_from_pdf(file_name)\n",
    "        elif extension == '.docx':\n",
    "            extracted_text = extract_text_from_docx(file_name)\n",
    "        else:\n",
    "            extracted_text = \"Unsupported file format.\"\n",
    "\n",
    "        # Update the text area with the extracted content\n",
    "        text_area.value = extracted_text\n",
    "\n",
    "    except Exception as e:\n",
    "        text_area.value = f\"Error: {str(e)}\"\n",
    "\n",
    "# Function to summarize the extracted content when the summarize button is clicked\n",
    "def on_summarize_button_clicked(b):\n",
    "    document_text = text_area.value\n",
    "    if document_text.strip():\n",
    "        summary = summarize_text(document_text)\n",
    "        summary_area.value = summary\n",
    "    else:\n",
    "        summary_area.value = \"No text available for summarization.\"\n",
    "\n",
    "# Button for summarizing the document (Centered using HBox)\n",
    "summarize_button = widgets.Button(\n",
    "    description=\"Summarize\",\n",
    "    button_style='success',  # Green button\n",
    "    layout=widgets.Layout(width='150px')\n",
    ")\n",
    "\n",
    "# Center the button using an HBox\n",
    "button_box = widgets.HBox([summarize_button], layout=widgets.Layout(justify_content='center'))\n",
    "\n",
    "# Trigger the summarization process on button click\n",
    "summarize_button.on_click(on_summarize_button_clicked)\n",
    "\n",
    "# Trigger the text extraction on file upload\n",
    "file_upload.observe(on_file_upload, names='value')\n",
    "\n",
    "# Display widgets (title, file upload, extracted text area, summarize button, and summary area)\n",
    "display(widgets.VBox([title_label, file_upload, text_area, button_box, summary_area]))\n",
    "\n"
   ]
  }
 ],
 "metadata": {
  "colab": {
   "provenance": []
  },
  "kernelspec": {
   "display_name": "Python 3 (ipykernel)",
   "language": "python",
   "name": "python3"
  },
  "language_info": {
   "codemirror_mode": {
    "name": "ipython",
    "version": 3
   },
   "file_extension": ".py",
   "mimetype": "text/x-python",
   "name": "python",
   "nbconvert_exporter": "python",
   "pygments_lexer": "ipython3",
   "version": "3.11.4"
  },
  "widgets": {
   "application/vnd.jupyter.widget-state+json": {
    "18d4641ca00e4123aff56512ea22a712": {
     "model_module": "@jupyter-widgets/controls",
     "model_module_version": "1.5.0",
     "model_name": "DescriptionStyleModel",
     "state": {
      "_model_module": "@jupyter-widgets/controls",
      "_model_module_version": "1.5.0",
      "_model_name": "DescriptionStyleModel",
      "_view_count": null,
      "_view_module": "@jupyter-widgets/base",
      "_view_module_version": "1.2.0",
      "_view_name": "StyleView",
      "description_width": ""
     }
    },
    "2c1e0521f71446d1ac01467236703b0e": {
     "model_module": "@jupyter-widgets/controls",
     "model_module_version": "1.5.0",
     "model_name": "HBoxModel",
     "state": {
      "_dom_classes": [],
      "_model_module": "@jupyter-widgets/controls",
      "_model_module_version": "1.5.0",
      "_model_name": "HBoxModel",
      "_view_count": null,
      "_view_module": "@jupyter-widgets/controls",
      "_view_module_version": "1.5.0",
      "_view_name": "HBoxView",
      "box_style": "",
      "children": [
       "IPY_MODEL_e1c62cc573054b8584c8dbaeb00cd2e7"
      ],
      "layout": "IPY_MODEL_b7c7bef1ab754e1c9b51a4e2c6d6e2b4"
     }
    },
    "3ea7382208d64667b17a21b762f4a246": {
     "model_module": "@jupyter-widgets/base",
     "model_module_version": "1.2.0",
     "model_name": "LayoutModel",
     "state": {
      "_model_module": "@jupyter-widgets/base",
      "_model_module_version": "1.2.0",
      "_model_name": "LayoutModel",
      "_view_count": null,
      "_view_module": "@jupyter-widgets/base",
      "_view_module_version": "1.2.0",
      "_view_name": "LayoutView",
      "align_content": null,
      "align_items": null,
      "align_self": null,
      "border": null,
      "bottom": null,
      "display": null,
      "flex": null,
      "flex_flow": null,
      "grid_area": null,
      "grid_auto_columns": null,
      "grid_auto_flow": null,
      "grid_auto_rows": null,
      "grid_column": null,
      "grid_gap": null,
      "grid_row": null,
      "grid_template_areas": null,
      "grid_template_columns": null,
      "grid_template_rows": null,
      "height": null,
      "justify_content": null,
      "justify_items": null,
      "left": null,
      "margin": null,
      "max_height": null,
      "max_width": null,
      "min_height": null,
      "min_width": null,
      "object_fit": null,
      "object_position": null,
      "order": null,
      "overflow": null,
      "overflow_x": null,
      "overflow_y": null,
      "padding": null,
      "right": null,
      "top": null,
      "visibility": null,
      "width": null
     }
    },
    "43f0b693cfb6417b9f6978695ab32cda": {
     "model_module": "@jupyter-widgets/controls",
     "model_module_version": "1.5.0",
     "model_name": "DescriptionStyleModel",
     "state": {
      "_model_module": "@jupyter-widgets/controls",
      "_model_module_version": "1.5.0",
      "_model_name": "DescriptionStyleModel",
      "_view_count": null,
      "_view_module": "@jupyter-widgets/base",
      "_view_module_version": "1.2.0",
      "_view_name": "StyleView",
      "description_width": "initial"
     }
    },
    "49edbb3533734220b4e41832a52e4813": {
     "model_module": "@jupyter-widgets/base",
     "model_module_version": "1.2.0",
     "model_name": "LayoutModel",
     "state": {
      "_model_module": "@jupyter-widgets/base",
      "_model_module_version": "1.2.0",
      "_model_name": "LayoutModel",
      "_view_count": null,
      "_view_module": "@jupyter-widgets/base",
      "_view_module_version": "1.2.0",
      "_view_name": "LayoutView",
      "align_content": null,
      "align_items": null,
      "align_self": null,
      "border": null,
      "bottom": null,
      "display": null,
      "flex": null,
      "flex_flow": null,
      "grid_area": null,
      "grid_auto_columns": null,
      "grid_auto_flow": null,
      "grid_auto_rows": null,
      "grid_column": null,
      "grid_gap": null,
      "grid_row": null,
      "grid_template_areas": null,
      "grid_template_columns": null,
      "grid_template_rows": null,
      "height": null,
      "justify_content": null,
      "justify_items": null,
      "left": null,
      "margin": null,
      "max_height": null,
      "max_width": null,
      "min_height": null,
      "min_width": null,
      "object_fit": null,
      "object_position": null,
      "order": null,
      "overflow": null,
      "overflow_x": null,
      "overflow_y": null,
      "padding": null,
      "right": null,
      "top": null,
      "visibility": null,
      "width": null
     }
    },
    "5a4dd796e1e14525a349ea2a379bfe68": {
     "model_module": "@jupyter-widgets/base",
     "model_module_version": "1.2.0",
     "model_name": "LayoutModel",
     "state": {
      "_model_module": "@jupyter-widgets/base",
      "_model_module_version": "1.2.0",
      "_model_name": "LayoutModel",
      "_view_count": null,
      "_view_module": "@jupyter-widgets/base",
      "_view_module_version": "1.2.0",
      "_view_name": "LayoutView",
      "align_content": null,
      "align_items": null,
      "align_self": null,
      "border": null,
      "bottom": null,
      "display": null,
      "flex": null,
      "flex_flow": null,
      "grid_area": null,
      "grid_auto_columns": null,
      "grid_auto_flow": null,
      "grid_auto_rows": null,
      "grid_column": null,
      "grid_gap": null,
      "grid_row": null,
      "grid_template_areas": null,
      "grid_template_columns": null,
      "grid_template_rows": null,
      "height": null,
      "justify_content": null,
      "justify_items": null,
      "left": null,
      "margin": null,
      "max_height": null,
      "max_width": null,
      "min_height": null,
      "min_width": null,
      "object_fit": null,
      "object_position": null,
      "order": null,
      "overflow": null,
      "overflow_x": null,
      "overflow_y": null,
      "padding": null,
      "right": null,
      "top": null,
      "visibility": null,
      "width": "150px"
     }
    },
    "5a89b49db527407a956e367f2caad855": {
     "model_module": "@jupyter-widgets/controls",
     "model_module_version": "1.5.0",
     "model_name": "DescriptionStyleModel",
     "state": {
      "_model_module": "@jupyter-widgets/controls",
      "_model_module_version": "1.5.0",
      "_model_name": "DescriptionStyleModel",
      "_view_count": null,
      "_view_module": "@jupyter-widgets/base",
      "_view_module_version": "1.2.0",
      "_view_name": "StyleView",
      "description_width": "initial"
     }
    },
    "5fc1bc63dc2d403ca32e219a8372494a": {
     "model_module": "@jupyter-widgets/controls",
     "model_module_version": "1.5.0",
     "model_name": "VBoxModel",
     "state": {
      "_dom_classes": [],
      "_model_module": "@jupyter-widgets/controls",
      "_model_module_version": "1.5.0",
      "_model_name": "VBoxModel",
      "_view_count": null,
      "_view_module": "@jupyter-widgets/controls",
      "_view_module_version": "1.5.0",
      "_view_name": "VBoxView",
      "box_style": "",
      "children": [
       "IPY_MODEL_bb8a933d32f642128cd3c8aa83ac6e51",
       "IPY_MODEL_80f0ea006faf467ebb3218efbf92d89c",
       "IPY_MODEL_fea7f4d9a2884b43b8c34d4bebf0e79d",
       "IPY_MODEL_2c1e0521f71446d1ac01467236703b0e",
       "IPY_MODEL_df4ffb34fdb54f58b2bea0e2a49ecf3a"
      ],
      "layout": "IPY_MODEL_49edbb3533734220b4e41832a52e4813"
     }
    },
    "80f0ea006faf467ebb3218efbf92d89c": {
     "model_module": "@jupyter-widgets/controls",
     "model_module_version": "1.5.0",
     "model_name": "FileUploadModel",
     "state": {
      "_counter": 1,
      "_dom_classes": [],
      "_model_module": "@jupyter-widgets/controls",
      "_model_module_version": "1.5.0",
      "_model_name": "FileUploadModel",
      "_view_count": null,
      "_view_module": "@jupyter-widgets/controls",
      "_view_module_version": "1.5.0",
      "_view_name": "FileUploadView",
      "accept": ".pdf,.docx",
      "button_style": "",
      "data": [
       null
      ],
      "description": "Upload",
      "description_tooltip": null,
      "disabled": false,
      "error": "",
      "icon": "upload",
      "layout": "IPY_MODEL_3ea7382208d64667b17a21b762f4a246",
      "metadata": [
       {
        "lastModified": 1727336686778,
        "name": "Service-NDA.pdf",
        "size": 67758,
        "type": "application/pdf"
       }
      ],
      "multiple": false,
      "style": "IPY_MODEL_a2021c4169994503b3ee9fdf717342fb"
     }
    },
    "a2021c4169994503b3ee9fdf717342fb": {
     "model_module": "@jupyter-widgets/controls",
     "model_module_version": "1.5.0",
     "model_name": "ButtonStyleModel",
     "state": {
      "_model_module": "@jupyter-widgets/controls",
      "_model_module_version": "1.5.0",
      "_model_name": "ButtonStyleModel",
      "_view_count": null,
      "_view_module": "@jupyter-widgets/base",
      "_view_module_version": "1.2.0",
      "_view_name": "StyleView",
      "button_color": null,
      "font_weight": ""
     }
    },
    "a29b0c91ac6b426ca26b7f3ef6e62fef": {
     "model_module": "@jupyter-widgets/base",
     "model_module_version": "1.2.0",
     "model_name": "LayoutModel",
     "state": {
      "_model_module": "@jupyter-widgets/base",
      "_model_module_version": "1.2.0",
      "_model_name": "LayoutModel",
      "_view_count": null,
      "_view_module": "@jupyter-widgets/base",
      "_view_module_version": "1.2.0",
      "_view_name": "LayoutView",
      "align_content": null,
      "align_items": null,
      "align_self": null,
      "border": null,
      "bottom": null,
      "display": null,
      "flex": null,
      "flex_flow": null,
      "grid_area": null,
      "grid_auto_columns": null,
      "grid_auto_flow": null,
      "grid_auto_rows": null,
      "grid_column": null,
      "grid_gap": null,
      "grid_row": null,
      "grid_template_areas": null,
      "grid_template_columns": null,
      "grid_template_rows": null,
      "height": "200px",
      "justify_content": null,
      "justify_items": null,
      "left": null,
      "margin": null,
      "max_height": null,
      "max_width": null,
      "min_height": null,
      "min_width": null,
      "object_fit": null,
      "object_position": null,
      "order": null,
      "overflow": null,
      "overflow_x": null,
      "overflow_y": null,
      "padding": null,
      "right": null,
      "top": null,
      "visibility": null,
      "width": "600px"
     }
    },
    "a535905b8e8447beacb9e38fda2e0caf": {
     "model_module": "@jupyter-widgets/base",
     "model_module_version": "1.2.0",
     "model_name": "LayoutModel",
     "state": {
      "_model_module": "@jupyter-widgets/base",
      "_model_module_version": "1.2.0",
      "_model_name": "LayoutModel",
      "_view_count": null,
      "_view_module": "@jupyter-widgets/base",
      "_view_module_version": "1.2.0",
      "_view_name": "LayoutView",
      "align_content": null,
      "align_items": null,
      "align_self": null,
      "border": null,
      "bottom": null,
      "display": null,
      "flex": null,
      "flex_flow": null,
      "grid_area": null,
      "grid_auto_columns": null,
      "grid_auto_flow": null,
      "grid_auto_rows": null,
      "grid_column": null,
      "grid_gap": null,
      "grid_row": null,
      "grid_template_areas": null,
      "grid_template_columns": null,
      "grid_template_rows": null,
      "height": "300px",
      "justify_content": null,
      "justify_items": null,
      "left": null,
      "margin": null,
      "max_height": null,
      "max_width": null,
      "min_height": null,
      "min_width": null,
      "object_fit": null,
      "object_position": null,
      "order": null,
      "overflow": null,
      "overflow_x": null,
      "overflow_y": null,
      "padding": null,
      "right": null,
      "top": null,
      "visibility": null,
      "width": "600px"
     }
    },
    "b7c7bef1ab754e1c9b51a4e2c6d6e2b4": {
     "model_module": "@jupyter-widgets/base",
     "model_module_version": "1.2.0",
     "model_name": "LayoutModel",
     "state": {
      "_model_module": "@jupyter-widgets/base",
      "_model_module_version": "1.2.0",
      "_model_name": "LayoutModel",
      "_view_count": null,
      "_view_module": "@jupyter-widgets/base",
      "_view_module_version": "1.2.0",
      "_view_name": "LayoutView",
      "align_content": null,
      "align_items": null,
      "align_self": null,
      "border": null,
      "bottom": null,
      "display": null,
      "flex": null,
      "flex_flow": null,
      "grid_area": null,
      "grid_auto_columns": null,
      "grid_auto_flow": null,
      "grid_auto_rows": null,
      "grid_column": null,
      "grid_gap": null,
      "grid_row": null,
      "grid_template_areas": null,
      "grid_template_columns": null,
      "grid_template_rows": null,
      "height": null,
      "justify_content": "center",
      "justify_items": null,
      "left": null,
      "margin": null,
      "max_height": null,
      "max_width": null,
      "min_height": null,
      "min_width": null,
      "object_fit": null,
      "object_position": null,
      "order": null,
      "overflow": null,
      "overflow_x": null,
      "overflow_y": null,
      "padding": null,
      "right": null,
      "top": null,
      "visibility": null,
      "width": null
     }
    },
    "bb8a933d32f642128cd3c8aa83ac6e51": {
     "model_module": "@jupyter-widgets/controls",
     "model_module_version": "1.5.0",
     "model_name": "HTMLModel",
     "state": {
      "_dom_classes": [],
      "_model_module": "@jupyter-widgets/controls",
      "_model_module_version": "1.5.0",
      "_model_name": "HTMLModel",
      "_view_count": null,
      "_view_module": "@jupyter-widgets/controls",
      "_view_module_version": "1.5.0",
      "_view_name": "HTMLView",
      "description": "",
      "description_tooltip": null,
      "layout": "IPY_MODEL_f6e1edfcd4c849bd8bcdc3bff098121a",
      "placeholder": "​",
      "style": "IPY_MODEL_18d4641ca00e4123aff56512ea22a712",
      "value": "<h2 style='text-align: center; color: #333;'>Legal Document Summarization Tool</h2>"
     }
    },
    "df4ffb34fdb54f58b2bea0e2a49ecf3a": {
     "model_module": "@jupyter-widgets/controls",
     "model_module_version": "1.5.0",
     "model_name": "TextareaModel",
     "state": {
      "_dom_classes": [],
      "_model_module": "@jupyter-widgets/controls",
      "_model_module_version": "1.5.0",
      "_model_name": "TextareaModel",
      "_view_count": null,
      "_view_module": "@jupyter-widgets/controls",
      "_view_module_version": "1.5.0",
      "_view_name": "TextareaView",
      "continuous_update": true,
      "description": "Summary:",
      "description_tooltip": null,
      "disabled": false,
      "layout": "IPY_MODEL_a29b0c91ac6b426ca26b7f3ef6e62fef",
      "placeholder": "Summary will appear here...",
      "rows": null,
      "style": "IPY_MODEL_5a89b49db527407a956e367f2caad855",
      "value": "The Client and the Contractor (individually the \"Party\" and collectively the \"Parties\" to this Agreement) agree as follows: The Contractor will charge the Client a flat fee of................... for the Services (the \"Compensation\"). All expenses must be pre-approved by the Client. Confidential information refers to any data or information relating to the Client, whether business or personal, which would reasonably be considered to be private."
     }
    },
    "e1c62cc573054b8584c8dbaeb00cd2e7": {
     "model_module": "@jupyter-widgets/controls",
     "model_module_version": "1.5.0",
     "model_name": "ButtonModel",
     "state": {
      "_dom_classes": [],
      "_model_module": "@jupyter-widgets/controls",
      "_model_module_version": "1.5.0",
      "_model_name": "ButtonModel",
      "_view_count": null,
      "_view_module": "@jupyter-widgets/controls",
      "_view_module_version": "1.5.0",
      "_view_name": "ButtonView",
      "button_style": "success",
      "description": "Summarize",
      "disabled": false,
      "icon": "",
      "layout": "IPY_MODEL_5a4dd796e1e14525a349ea2a379bfe68",
      "style": "IPY_MODEL_fe33f8eb29fc456aa14c80d58b222d08",
      "tooltip": ""
     }
    },
    "f6e1edfcd4c849bd8bcdc3bff098121a": {
     "model_module": "@jupyter-widgets/base",
     "model_module_version": "1.2.0",
     "model_name": "LayoutModel",
     "state": {
      "_model_module": "@jupyter-widgets/base",
      "_model_module_version": "1.2.0",
      "_model_name": "LayoutModel",
      "_view_count": null,
      "_view_module": "@jupyter-widgets/base",
      "_view_module_version": "1.2.0",
      "_view_name": "LayoutView",
      "align_content": null,
      "align_items": null,
      "align_self": null,
      "border": null,
      "bottom": null,
      "display": null,
      "flex": null,
      "flex_flow": null,
      "grid_area": null,
      "grid_auto_columns": null,
      "grid_auto_flow": null,
      "grid_auto_rows": null,
      "grid_column": null,
      "grid_gap": null,
      "grid_row": null,
      "grid_template_areas": null,
      "grid_template_columns": null,
      "grid_template_rows": null,
      "height": null,
      "justify_content": null,
      "justify_items": null,
      "left": null,
      "margin": null,
      "max_height": null,
      "max_width": null,
      "min_height": null,
      "min_width": null,
      "object_fit": null,
      "object_position": null,
      "order": null,
      "overflow": null,
      "overflow_x": null,
      "overflow_y": null,
      "padding": null,
      "right": null,
      "top": null,
      "visibility": null,
      "width": null
     }
    },
    "fe33f8eb29fc456aa14c80d58b222d08": {
     "model_module": "@jupyter-widgets/controls",
     "model_module_version": "1.5.0",
     "model_name": "ButtonStyleModel",
     "state": {
      "_model_module": "@jupyter-widgets/controls",
      "_model_module_version": "1.5.0",
      "_model_name": "ButtonStyleModel",
      "_view_count": null,
      "_view_module": "@jupyter-widgets/base",
      "_view_module_version": "1.2.0",
      "_view_name": "StyleView",
      "button_color": null,
      "font_weight": ""
     }
    },
    "fea7f4d9a2884b43b8c34d4bebf0e79d": {
     "model_module": "@jupyter-widgets/controls",
     "model_module_version": "1.5.0",
     "model_name": "TextareaModel",
     "state": {
      "_dom_classes": [],
      "_model_module": "@jupyter-widgets/controls",
      "_model_module_version": "1.5.0",
      "_model_name": "TextareaModel",
      "_view_count": null,
      "_view_module": "@jupyter-widgets/controls",
      "_view_module_version": "1.5.0",
      "_view_name": "TextareaView",
      "continuous_update": true,
      "description": "Document Text:",
      "description_tooltip": null,
      "disabled": false,
      "layout": "IPY_MODEL_a535905b8e8447beacb9e38fda2e0caf",
      "placeholder": "Extracted text will appear here...",
      "rows": null,
      "style": "IPY_MODEL_43f0b693cfb6417b9f6978695ab32cda",
      "value": "GENERAL SERVICE AGREEMENT THIS GENERAL SERVICE AGREEMENT (the \"Agreement\") is dated this ________ day of ________________, ________. CLIENT CONTRACTOR ______________________ ______________________ ______________________________ ______________________________ (the \"Client\") (the \"Contractor\") BACKGROUND A. The Client is of the opinion that the Contractor has the necessary qualifications, experience and abilities to provide services to the Client. B. The Contractor is agreeable to providing such services to the Client on the terms and conditions set out in this Agreement. IN CONSIDERATION OF the matters described above and of the mutual benefits and obligations set forth in this Agreement, the receipt and sufficiency of which consideration is hereby acknowledged, the Client and the Contractor (individually the \"Party\" and collectively the \"Parties\" to this Agreement) agree as follows: SERVICES PROVIDED 1. The Client hereby agrees to engage the Contractor to provide the Client with the following services (the \"Services\"): • _______________________________________________________________ _______________________________________________________________. 2. The Services will also include any other tasks which the Parties may agree on. The Contractor hereby agrees to provide such Services to the Client. TERM OF AGREEMENT 3. The term of this Agreement (the \"Term\") will begin on the date of this Agreement and will remain in full force and effect until the completion of the Services, subject to earlier termination as provided in this Agreement. The Term may be extended with the written consent of the Parties. PERFORMANCE Page1of6 Service Agreement Page2of6 4. The Parties agree to do everything necessary to ensure that the terms of this Agreement take effect. CURRENCY 5. Except as otherwise provided in this Agreement, all monetary amounts referred to in this Agreement are in USD (US Dollars). COMPENSATION 6. The Contractor will charge the Client a flat fee of ................... for the Services (the \"Compensation\"). 7. The Contractor will invoice the Client when the Services are complete. 8. Invoices submitted by the Contractor to the Client are due within 30 days of receipt. 9. The Compensation as stated in this Agreement does not include sales tax, or other applicable duties as may be required by law. Any sales tax and duties required by law will be charged to the Client in addition to the Compensation. REIMBURSEMENT OF EXPENSES 10. The Contractor will be reimbursed from time to time for reasonable and necessary expenses incurred by the Contractor in connection with providing the Services. 11. All expenses must be pre-approved by the Client. CONFIDENTIALITY 12. Confidential information (the \"Confidential Information\") refers to any data or information relating to the Client, whether business or personal, which would reasonably be considered to be private or proprietary to the Client and that is not generally known and where the release of that Confidential Information could reasonably be expected to cause harm to the Client. 13. The Contractor agrees that they will not disclose, divulge, reveal, report or use, for any purpose, any Confidential Information which the Contractor has obtained, except as authorized by the Client or as required by law. The obligations of confidentiality will apply during the Term and will survive indefinitely upon termination of this Agreement. 14. All written and oral information and material disclosed or provided by the Client to the Contractor under this Agreement is Confidential Information regardless of whether it was provided before or after the date of this Agreement or how it was provided to the Contractor. OWNERSHIP OF INTELLECTUAL PROPERTY 15. All intellectual property and related material, including any trade secrets, moral rights, goodwill, Service Agreement Page3of6 relevant registrations or applications for registration, and rights in any patent, copyright, trademark, trade dress, industrial design and trade name (the \"Intellectual Property\") that is developed or produced under this Agreement, is a \"work made for hire\" and will be the sole property of the Client. The use of the Intellectual Property by the Client will not be restricted in any manner. 16. The Contractor may not use the Intellectual Property for any purpose other than that contracted for in this Agreement except with the written consent of the Client. The Contractor will be responsible for any and all damages resulting from the unauthorized use of the Intellectual Property. RETURN OF PROPERTY 17. Upon the expiration or termination of this Agreement, the Contractor will return to the Client any property, documentation, records, or Confidential Information which is the property of the Client. CAPACITY/INDEPENDENT CONTRACTOR 18. In providing the Services under this Agreement it is expressly agreed that the Contractor is acting as an independent contractor and not as an employee. The Contractor and the Client acknowledge that this Agreement does not create a partnership or joint venture between them, and is exclusively a contract for service. The Client is not required to pay, or make any contributions to, any social security, local, state or federal tax, unemployment compensation, workers' compensation, insurance premium, profit-sharing, pension or any other employee benefit for the Contractor during the Term. The Contractor is responsible for paying, and complying with reporting requirements for, all local, state and federal taxes related to payments made to the Contractor under this Agreement. RIGHT OF SUBSTITUTION 19. Except as otherwise provided in this Agreement, the Contractor may, at the Contractor's absolute discretion, engage a third party sub-contractor to perform some or all of the obligations of the Contractor under this Agreement and the Client will not hire or engage any third parties to assist with the provision of the Services. 20. In the event that the Contractor hires a sub-contractor: • the Contractor will pay the sub-contractor for its services and the Compensation will remain payable by the Client to the Contractor. • for the purposes of the indemnification clause of this Agreement, the sub-contractor is an agent of the Contractor. AUTONOMY 21. Except as otherwise provided in this Agreement, the Contractor will have full control over Service Agreement Page4of6 working time, methods, and decision making in relation to provision of the Services in accordance with the Agreement. The Contractor will work autonomously and not at the direction of the Client. However, the Contractor will be responsive to the reasonable needs and concerns of the Client. EQUIPMENT 22. Except as otherwise provided in this Agreement, the Contractor will provide at the Contractor’s own expense, any and all tools, machinery, equipment, raw materials, supplies, workwear and any other items or parts necessary to deliver the Services in accordance with the Agreement. NO EXCLUSIVITY 23. The Parties acknowledge that this Agreement is non-exclusive and that either Party will be free, during and after the Term, to engage or contract with third parties for the provision of services similar to the Services. NOTICE 24. All notices, requests, demands or other communications required or permitted by the terms of this Agreement will be given in writing and delivered to the Parties at the following addresses: • ______________________ ______________________________ • ______________________ ______________________________ or to such other address as either Party may from time to time notify the other, and will be deemed to be properly delivered (a) immediately upon being served personally, (b) two days after being deposited with the postal service if served by registered mail, or (c) the following day after being deposited with an overnight courier. INDEMNIFICATION 25. Except to the extent paid in settlement from any applicable insurance policies, and to the extent permitted by applicable law, each Party agrees to indemnify and hold harmless the other Party, and its respective affiliates, officers, agents, employees, and permitted successors and assigns against any and all claims, losses, damages, liabilities, penalties, punitive damages, expenses, reasonable legal fees and costs of any kind or amount whatsoever, which result from or arise out of any act or omission of the indemnifying party, its respective affiliates, officers, agents, employees, and permitted successors and assigns that occurs in connection with this Agreement. This indemnification will survive the termination of this Agreement. MODIFICATION OF AGREEMENT Service Agreement Page5of6 26. Any amendment or modification of this Agreement or additional obligation assumed by either Party in connection with this Agreement will only be binding if evidenced in writing signed by each Party or an authorized representative of each Party. TIME OF THE ESSENCE 27. Time is of the essence in this Agreement. No extension or variation of this Agreement will operate as a waiver of this provision. ASSIGNMENT 28. The Contractor will not voluntarily, or by operation of law, assign or otherwise transfer its obligations under this Agreement without the prior written consent of the Client. ENTIRE AGREEMENT 29. It is agreed that there is no representation, warranty, collateral agreement or condition affecting this Agreement except as expressly provided in this Agreement. ENUREMENT 30. This Agreement will ensure to the benefit of and be binding on the Parties and their respective heirs, executors, administrators and permitted successors and assigns. TITLES/HEADINGS 31. Headings are inserted for the convenience of the Parties only and are not to be considered when interpreting this Agreement. GENDER 32. Words in the singular mean and include the plural and vice versa. Words in the masculine mean and include the feminine and vice versa. GOVERNING LAW 33. This Agreement will be governed by and construed in accordance with the laws of ...................................... SEVERABILITY 34. In the event that any of the provisions of this Agreement are held to be invalid or unenforceable in whole or in part, all other provisions will nevertheless continue to be valid and enforceable with the invalid or unenforceable parts severed from the remainder of this Agreement. WAIVER 35. The waiver by either Party of a breach, default, delay or omission of any of the provisions of this Service Agreement Page6of6 Agreement by the other Party will not be construed as a waiver of any subsequent breach of the same or other provisions. IN WITNESS WHEREOF the Parties have duly affixed their signatures under hand and seal on this ________ day of ________________, ________. ______________________ (Client) ______________________ (Contractor) ©2002-2023 LawDepot.com®"
     }
    }
   }
  }
 },
 "nbformat": 4,
 "nbformat_minor": 1
}
